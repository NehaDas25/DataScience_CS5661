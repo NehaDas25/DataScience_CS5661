{
 "cells": [
  {
   "cell_type": "markdown",
   "id": "7fa754e2",
   "metadata": {},
   "source": [
    "# Import necessary libraries"
   ]
  },
  {
   "cell_type": "code",
   "execution_count": 1,
   "id": "45413cce",
   "metadata": {},
   "outputs": [],
   "source": [
    "#Import all libraries here\n",
    "import zipfile\n",
    "import numpy as np\n",
    "import pandas as pd\n",
    "import seaborn as sns\n",
    "import matplotlib.pyplot as plt\n",
    "from sklearn.preprocessing import MinMaxScaler\n",
    "from sklearn.model_selection import train_test_split\n",
    "from sklearn.neighbors import KNeighborsClassifier\n",
    "from sklearn.tree import DecisionTreeClassifier\n",
    "from sklearn.ensemble import RandomForestClassifier\n",
    "from sklearn.linear_model import LogisticRegression\n",
    "from sklearn.neural_network import MLPClassifier\n",
    "from sklearn.naive_bayes import GaussianNB\n",
    "from sklearn.svm import SVC\n",
    "from sklearn.metrics import accuracy_score\n",
    "from sklearn.metrics import recall_score, precision_score, f1_score\n",
    "from sklearn.metrics import roc_curve\n",
    "from sklearn import metrics\n",
    "from sklearn.metrics import plot_confusion_matrix\n",
    "from IPython.display import Image\n",
    "from numpy import where\n",
    "from matplotlib import pyplot\n",
    "from imblearn.under_sampling import NearMiss \n",
    "from tabulate import tabulate"
   ]
  },
  {
   "cell_type": "code",
   "execution_count": 2,
   "id": "4c253824",
   "metadata": {},
   "outputs": [],
   "source": [
    "#!pip install tabulate\n",
    "#!pip install -U imbalanced-learn\n"
   ]
  },
  {
   "cell_type": "markdown",
   "id": "650217e0",
   "metadata": {},
   "source": [
    "# Load data set"
   ]
  },
  {
   "cell_type": "code",
   "execution_count": 3,
   "id": "76ab9d50",
   "metadata": {},
   "outputs": [],
   "source": [
    "#Extract the dataset from the zip_file\n",
    "zf = zipfile.ZipFile('creditcard.zip') \n",
    "data_set = pd.read_csv(zf.open('creditcard.csv'))"
   ]
  },
  {
   "cell_type": "code",
   "execution_count": 4,
   "id": "7cc0b0a2",
   "metadata": {
    "scrolled": true
   },
   "outputs": [
    {
     "data": {
      "text/html": [
       "<div>\n",
       "<style scoped>\n",
       "    .dataframe tbody tr th:only-of-type {\n",
       "        vertical-align: middle;\n",
       "    }\n",
       "\n",
       "    .dataframe tbody tr th {\n",
       "        vertical-align: top;\n",
       "    }\n",
       "\n",
       "    .dataframe thead th {\n",
       "        text-align: right;\n",
       "    }\n",
       "</style>\n",
       "<table border=\"1\" class=\"dataframe\">\n",
       "  <thead>\n",
       "    <tr style=\"text-align: right;\">\n",
       "      <th></th>\n",
       "      <th>Time</th>\n",
       "      <th>V1</th>\n",
       "      <th>V2</th>\n",
       "      <th>V3</th>\n",
       "      <th>V4</th>\n",
       "      <th>V5</th>\n",
       "      <th>V6</th>\n",
       "      <th>V7</th>\n",
       "      <th>V8</th>\n",
       "      <th>V9</th>\n",
       "      <th>...</th>\n",
       "      <th>V21</th>\n",
       "      <th>V22</th>\n",
       "      <th>V23</th>\n",
       "      <th>V24</th>\n",
       "      <th>V25</th>\n",
       "      <th>V26</th>\n",
       "      <th>V27</th>\n",
       "      <th>V28</th>\n",
       "      <th>Amount</th>\n",
       "      <th>Class</th>\n",
       "    </tr>\n",
       "  </thead>\n",
       "  <tbody>\n",
       "    <tr>\n",
       "      <th>0</th>\n",
       "      <td>0.0</td>\n",
       "      <td>-1.359807</td>\n",
       "      <td>-0.072781</td>\n",
       "      <td>2.536347</td>\n",
       "      <td>1.378155</td>\n",
       "      <td>-0.338321</td>\n",
       "      <td>0.462388</td>\n",
       "      <td>0.239599</td>\n",
       "      <td>0.098698</td>\n",
       "      <td>0.363787</td>\n",
       "      <td>...</td>\n",
       "      <td>-0.018307</td>\n",
       "      <td>0.277838</td>\n",
       "      <td>-0.110474</td>\n",
       "      <td>0.066928</td>\n",
       "      <td>0.128539</td>\n",
       "      <td>-0.189115</td>\n",
       "      <td>0.133558</td>\n",
       "      <td>-0.021053</td>\n",
       "      <td>149.62</td>\n",
       "      <td>0</td>\n",
       "    </tr>\n",
       "    <tr>\n",
       "      <th>1</th>\n",
       "      <td>0.0</td>\n",
       "      <td>1.191857</td>\n",
       "      <td>0.266151</td>\n",
       "      <td>0.166480</td>\n",
       "      <td>0.448154</td>\n",
       "      <td>0.060018</td>\n",
       "      <td>-0.082361</td>\n",
       "      <td>-0.078803</td>\n",
       "      <td>0.085102</td>\n",
       "      <td>-0.255425</td>\n",
       "      <td>...</td>\n",
       "      <td>-0.225775</td>\n",
       "      <td>-0.638672</td>\n",
       "      <td>0.101288</td>\n",
       "      <td>-0.339846</td>\n",
       "      <td>0.167170</td>\n",
       "      <td>0.125895</td>\n",
       "      <td>-0.008983</td>\n",
       "      <td>0.014724</td>\n",
       "      <td>2.69</td>\n",
       "      <td>0</td>\n",
       "    </tr>\n",
       "    <tr>\n",
       "      <th>2</th>\n",
       "      <td>1.0</td>\n",
       "      <td>-1.358354</td>\n",
       "      <td>-1.340163</td>\n",
       "      <td>1.773209</td>\n",
       "      <td>0.379780</td>\n",
       "      <td>-0.503198</td>\n",
       "      <td>1.800499</td>\n",
       "      <td>0.791461</td>\n",
       "      <td>0.247676</td>\n",
       "      <td>-1.514654</td>\n",
       "      <td>...</td>\n",
       "      <td>0.247998</td>\n",
       "      <td>0.771679</td>\n",
       "      <td>0.909412</td>\n",
       "      <td>-0.689281</td>\n",
       "      <td>-0.327642</td>\n",
       "      <td>-0.139097</td>\n",
       "      <td>-0.055353</td>\n",
       "      <td>-0.059752</td>\n",
       "      <td>378.66</td>\n",
       "      <td>0</td>\n",
       "    </tr>\n",
       "    <tr>\n",
       "      <th>3</th>\n",
       "      <td>1.0</td>\n",
       "      <td>-0.966272</td>\n",
       "      <td>-0.185226</td>\n",
       "      <td>1.792993</td>\n",
       "      <td>-0.863291</td>\n",
       "      <td>-0.010309</td>\n",
       "      <td>1.247203</td>\n",
       "      <td>0.237609</td>\n",
       "      <td>0.377436</td>\n",
       "      <td>-1.387024</td>\n",
       "      <td>...</td>\n",
       "      <td>-0.108300</td>\n",
       "      <td>0.005274</td>\n",
       "      <td>-0.190321</td>\n",
       "      <td>-1.175575</td>\n",
       "      <td>0.647376</td>\n",
       "      <td>-0.221929</td>\n",
       "      <td>0.062723</td>\n",
       "      <td>0.061458</td>\n",
       "      <td>123.50</td>\n",
       "      <td>0</td>\n",
       "    </tr>\n",
       "    <tr>\n",
       "      <th>4</th>\n",
       "      <td>2.0</td>\n",
       "      <td>-1.158233</td>\n",
       "      <td>0.877737</td>\n",
       "      <td>1.548718</td>\n",
       "      <td>0.403034</td>\n",
       "      <td>-0.407193</td>\n",
       "      <td>0.095921</td>\n",
       "      <td>0.592941</td>\n",
       "      <td>-0.270533</td>\n",
       "      <td>0.817739</td>\n",
       "      <td>...</td>\n",
       "      <td>-0.009431</td>\n",
       "      <td>0.798278</td>\n",
       "      <td>-0.137458</td>\n",
       "      <td>0.141267</td>\n",
       "      <td>-0.206010</td>\n",
       "      <td>0.502292</td>\n",
       "      <td>0.219422</td>\n",
       "      <td>0.215153</td>\n",
       "      <td>69.99</td>\n",
       "      <td>0</td>\n",
       "    </tr>\n",
       "    <tr>\n",
       "      <th>...</th>\n",
       "      <td>...</td>\n",
       "      <td>...</td>\n",
       "      <td>...</td>\n",
       "      <td>...</td>\n",
       "      <td>...</td>\n",
       "      <td>...</td>\n",
       "      <td>...</td>\n",
       "      <td>...</td>\n",
       "      <td>...</td>\n",
       "      <td>...</td>\n",
       "      <td>...</td>\n",
       "      <td>...</td>\n",
       "      <td>...</td>\n",
       "      <td>...</td>\n",
       "      <td>...</td>\n",
       "      <td>...</td>\n",
       "      <td>...</td>\n",
       "      <td>...</td>\n",
       "      <td>...</td>\n",
       "      <td>...</td>\n",
       "      <td>...</td>\n",
       "    </tr>\n",
       "    <tr>\n",
       "      <th>284802</th>\n",
       "      <td>172786.0</td>\n",
       "      <td>-11.881118</td>\n",
       "      <td>10.071785</td>\n",
       "      <td>-9.834783</td>\n",
       "      <td>-2.066656</td>\n",
       "      <td>-5.364473</td>\n",
       "      <td>-2.606837</td>\n",
       "      <td>-4.918215</td>\n",
       "      <td>7.305334</td>\n",
       "      <td>1.914428</td>\n",
       "      <td>...</td>\n",
       "      <td>0.213454</td>\n",
       "      <td>0.111864</td>\n",
       "      <td>1.014480</td>\n",
       "      <td>-0.509348</td>\n",
       "      <td>1.436807</td>\n",
       "      <td>0.250034</td>\n",
       "      <td>0.943651</td>\n",
       "      <td>0.823731</td>\n",
       "      <td>0.77</td>\n",
       "      <td>0</td>\n",
       "    </tr>\n",
       "    <tr>\n",
       "      <th>284803</th>\n",
       "      <td>172787.0</td>\n",
       "      <td>-0.732789</td>\n",
       "      <td>-0.055080</td>\n",
       "      <td>2.035030</td>\n",
       "      <td>-0.738589</td>\n",
       "      <td>0.868229</td>\n",
       "      <td>1.058415</td>\n",
       "      <td>0.024330</td>\n",
       "      <td>0.294869</td>\n",
       "      <td>0.584800</td>\n",
       "      <td>...</td>\n",
       "      <td>0.214205</td>\n",
       "      <td>0.924384</td>\n",
       "      <td>0.012463</td>\n",
       "      <td>-1.016226</td>\n",
       "      <td>-0.606624</td>\n",
       "      <td>-0.395255</td>\n",
       "      <td>0.068472</td>\n",
       "      <td>-0.053527</td>\n",
       "      <td>24.79</td>\n",
       "      <td>0</td>\n",
       "    </tr>\n",
       "    <tr>\n",
       "      <th>284804</th>\n",
       "      <td>172788.0</td>\n",
       "      <td>1.919565</td>\n",
       "      <td>-0.301254</td>\n",
       "      <td>-3.249640</td>\n",
       "      <td>-0.557828</td>\n",
       "      <td>2.630515</td>\n",
       "      <td>3.031260</td>\n",
       "      <td>-0.296827</td>\n",
       "      <td>0.708417</td>\n",
       "      <td>0.432454</td>\n",
       "      <td>...</td>\n",
       "      <td>0.232045</td>\n",
       "      <td>0.578229</td>\n",
       "      <td>-0.037501</td>\n",
       "      <td>0.640134</td>\n",
       "      <td>0.265745</td>\n",
       "      <td>-0.087371</td>\n",
       "      <td>0.004455</td>\n",
       "      <td>-0.026561</td>\n",
       "      <td>67.88</td>\n",
       "      <td>0</td>\n",
       "    </tr>\n",
       "    <tr>\n",
       "      <th>284805</th>\n",
       "      <td>172788.0</td>\n",
       "      <td>-0.240440</td>\n",
       "      <td>0.530483</td>\n",
       "      <td>0.702510</td>\n",
       "      <td>0.689799</td>\n",
       "      <td>-0.377961</td>\n",
       "      <td>0.623708</td>\n",
       "      <td>-0.686180</td>\n",
       "      <td>0.679145</td>\n",
       "      <td>0.392087</td>\n",
       "      <td>...</td>\n",
       "      <td>0.265245</td>\n",
       "      <td>0.800049</td>\n",
       "      <td>-0.163298</td>\n",
       "      <td>0.123205</td>\n",
       "      <td>-0.569159</td>\n",
       "      <td>0.546668</td>\n",
       "      <td>0.108821</td>\n",
       "      <td>0.104533</td>\n",
       "      <td>10.00</td>\n",
       "      <td>0</td>\n",
       "    </tr>\n",
       "    <tr>\n",
       "      <th>284806</th>\n",
       "      <td>172792.0</td>\n",
       "      <td>-0.533413</td>\n",
       "      <td>-0.189733</td>\n",
       "      <td>0.703337</td>\n",
       "      <td>-0.506271</td>\n",
       "      <td>-0.012546</td>\n",
       "      <td>-0.649617</td>\n",
       "      <td>1.577006</td>\n",
       "      <td>-0.414650</td>\n",
       "      <td>0.486180</td>\n",
       "      <td>...</td>\n",
       "      <td>0.261057</td>\n",
       "      <td>0.643078</td>\n",
       "      <td>0.376777</td>\n",
       "      <td>0.008797</td>\n",
       "      <td>-0.473649</td>\n",
       "      <td>-0.818267</td>\n",
       "      <td>-0.002415</td>\n",
       "      <td>0.013649</td>\n",
       "      <td>217.00</td>\n",
       "      <td>0</td>\n",
       "    </tr>\n",
       "  </tbody>\n",
       "</table>\n",
       "<p>284807 rows × 31 columns</p>\n",
       "</div>"
      ],
      "text/plain": [
       "            Time         V1         V2        V3        V4        V5  \\\n",
       "0            0.0  -1.359807  -0.072781  2.536347  1.378155 -0.338321   \n",
       "1            0.0   1.191857   0.266151  0.166480  0.448154  0.060018   \n",
       "2            1.0  -1.358354  -1.340163  1.773209  0.379780 -0.503198   \n",
       "3            1.0  -0.966272  -0.185226  1.792993 -0.863291 -0.010309   \n",
       "4            2.0  -1.158233   0.877737  1.548718  0.403034 -0.407193   \n",
       "...          ...        ...        ...       ...       ...       ...   \n",
       "284802  172786.0 -11.881118  10.071785 -9.834783 -2.066656 -5.364473   \n",
       "284803  172787.0  -0.732789  -0.055080  2.035030 -0.738589  0.868229   \n",
       "284804  172788.0   1.919565  -0.301254 -3.249640 -0.557828  2.630515   \n",
       "284805  172788.0  -0.240440   0.530483  0.702510  0.689799 -0.377961   \n",
       "284806  172792.0  -0.533413  -0.189733  0.703337 -0.506271 -0.012546   \n",
       "\n",
       "              V6        V7        V8        V9  ...       V21       V22  \\\n",
       "0       0.462388  0.239599  0.098698  0.363787  ... -0.018307  0.277838   \n",
       "1      -0.082361 -0.078803  0.085102 -0.255425  ... -0.225775 -0.638672   \n",
       "2       1.800499  0.791461  0.247676 -1.514654  ...  0.247998  0.771679   \n",
       "3       1.247203  0.237609  0.377436 -1.387024  ... -0.108300  0.005274   \n",
       "4       0.095921  0.592941 -0.270533  0.817739  ... -0.009431  0.798278   \n",
       "...          ...       ...       ...       ...  ...       ...       ...   \n",
       "284802 -2.606837 -4.918215  7.305334  1.914428  ...  0.213454  0.111864   \n",
       "284803  1.058415  0.024330  0.294869  0.584800  ...  0.214205  0.924384   \n",
       "284804  3.031260 -0.296827  0.708417  0.432454  ...  0.232045  0.578229   \n",
       "284805  0.623708 -0.686180  0.679145  0.392087  ...  0.265245  0.800049   \n",
       "284806 -0.649617  1.577006 -0.414650  0.486180  ...  0.261057  0.643078   \n",
       "\n",
       "             V23       V24       V25       V26       V27       V28  Amount  \\\n",
       "0      -0.110474  0.066928  0.128539 -0.189115  0.133558 -0.021053  149.62   \n",
       "1       0.101288 -0.339846  0.167170  0.125895 -0.008983  0.014724    2.69   \n",
       "2       0.909412 -0.689281 -0.327642 -0.139097 -0.055353 -0.059752  378.66   \n",
       "3      -0.190321 -1.175575  0.647376 -0.221929  0.062723  0.061458  123.50   \n",
       "4      -0.137458  0.141267 -0.206010  0.502292  0.219422  0.215153   69.99   \n",
       "...          ...       ...       ...       ...       ...       ...     ...   \n",
       "284802  1.014480 -0.509348  1.436807  0.250034  0.943651  0.823731    0.77   \n",
       "284803  0.012463 -1.016226 -0.606624 -0.395255  0.068472 -0.053527   24.79   \n",
       "284804 -0.037501  0.640134  0.265745 -0.087371  0.004455 -0.026561   67.88   \n",
       "284805 -0.163298  0.123205 -0.569159  0.546668  0.108821  0.104533   10.00   \n",
       "284806  0.376777  0.008797 -0.473649 -0.818267 -0.002415  0.013649  217.00   \n",
       "\n",
       "        Class  \n",
       "0           0  \n",
       "1           0  \n",
       "2           0  \n",
       "3           0  \n",
       "4           0  \n",
       "...       ...  \n",
       "284802      0  \n",
       "284803      0  \n",
       "284804      0  \n",
       "284805      0  \n",
       "284806      0  \n",
       "\n",
       "[284807 rows x 31 columns]"
      ]
     },
     "execution_count": 4,
     "metadata": {},
     "output_type": "execute_result"
    }
   ],
   "source": [
    "data_set"
   ]
  },
  {
   "cell_type": "code",
   "execution_count": 5,
   "id": "40d557ff",
   "metadata": {},
   "outputs": [
    {
     "data": {
      "text/plain": [
       "(284807, 31)"
      ]
     },
     "execution_count": 5,
     "metadata": {},
     "output_type": "execute_result"
    }
   ],
   "source": [
    "# it contains 284807 rows and 31 columns \n",
    "data_set.shape"
   ]
  },
  {
   "cell_type": "code",
   "execution_count": 6,
   "id": "0c3cb6db",
   "metadata": {},
   "outputs": [
    {
     "data": {
      "text/html": [
       "<div>\n",
       "<style scoped>\n",
       "    .dataframe tbody tr th:only-of-type {\n",
       "        vertical-align: middle;\n",
       "    }\n",
       "\n",
       "    .dataframe tbody tr th {\n",
       "        vertical-align: top;\n",
       "    }\n",
       "\n",
       "    .dataframe thead th {\n",
       "        text-align: right;\n",
       "    }\n",
       "</style>\n",
       "<table border=\"1\" class=\"dataframe\">\n",
       "  <thead>\n",
       "    <tr style=\"text-align: right;\">\n",
       "      <th></th>\n",
       "      <th>Time</th>\n",
       "      <th>V1</th>\n",
       "      <th>V2</th>\n",
       "      <th>V3</th>\n",
       "      <th>V4</th>\n",
       "      <th>V5</th>\n",
       "      <th>V6</th>\n",
       "      <th>V7</th>\n",
       "      <th>V8</th>\n",
       "      <th>V9</th>\n",
       "      <th>...</th>\n",
       "      <th>V21</th>\n",
       "      <th>V22</th>\n",
       "      <th>V23</th>\n",
       "      <th>V24</th>\n",
       "      <th>V25</th>\n",
       "      <th>V26</th>\n",
       "      <th>V27</th>\n",
       "      <th>V28</th>\n",
       "      <th>Amount</th>\n",
       "      <th>Class</th>\n",
       "    </tr>\n",
       "  </thead>\n",
       "  <tbody>\n",
       "    <tr>\n",
       "      <th>0</th>\n",
       "      <td>0.0</td>\n",
       "      <td>-1.359807</td>\n",
       "      <td>-0.072781</td>\n",
       "      <td>2.536347</td>\n",
       "      <td>1.378155</td>\n",
       "      <td>-0.338321</td>\n",
       "      <td>0.462388</td>\n",
       "      <td>0.239599</td>\n",
       "      <td>0.098698</td>\n",
       "      <td>0.363787</td>\n",
       "      <td>...</td>\n",
       "      <td>-0.018307</td>\n",
       "      <td>0.277838</td>\n",
       "      <td>-0.110474</td>\n",
       "      <td>0.066928</td>\n",
       "      <td>0.128539</td>\n",
       "      <td>-0.189115</td>\n",
       "      <td>0.133558</td>\n",
       "      <td>-0.021053</td>\n",
       "      <td>149.62</td>\n",
       "      <td>0</td>\n",
       "    </tr>\n",
       "    <tr>\n",
       "      <th>1</th>\n",
       "      <td>0.0</td>\n",
       "      <td>1.191857</td>\n",
       "      <td>0.266151</td>\n",
       "      <td>0.166480</td>\n",
       "      <td>0.448154</td>\n",
       "      <td>0.060018</td>\n",
       "      <td>-0.082361</td>\n",
       "      <td>-0.078803</td>\n",
       "      <td>0.085102</td>\n",
       "      <td>-0.255425</td>\n",
       "      <td>...</td>\n",
       "      <td>-0.225775</td>\n",
       "      <td>-0.638672</td>\n",
       "      <td>0.101288</td>\n",
       "      <td>-0.339846</td>\n",
       "      <td>0.167170</td>\n",
       "      <td>0.125895</td>\n",
       "      <td>-0.008983</td>\n",
       "      <td>0.014724</td>\n",
       "      <td>2.69</td>\n",
       "      <td>0</td>\n",
       "    </tr>\n",
       "    <tr>\n",
       "      <th>2</th>\n",
       "      <td>1.0</td>\n",
       "      <td>-1.358354</td>\n",
       "      <td>-1.340163</td>\n",
       "      <td>1.773209</td>\n",
       "      <td>0.379780</td>\n",
       "      <td>-0.503198</td>\n",
       "      <td>1.800499</td>\n",
       "      <td>0.791461</td>\n",
       "      <td>0.247676</td>\n",
       "      <td>-1.514654</td>\n",
       "      <td>...</td>\n",
       "      <td>0.247998</td>\n",
       "      <td>0.771679</td>\n",
       "      <td>0.909412</td>\n",
       "      <td>-0.689281</td>\n",
       "      <td>-0.327642</td>\n",
       "      <td>-0.139097</td>\n",
       "      <td>-0.055353</td>\n",
       "      <td>-0.059752</td>\n",
       "      <td>378.66</td>\n",
       "      <td>0</td>\n",
       "    </tr>\n",
       "    <tr>\n",
       "      <th>3</th>\n",
       "      <td>1.0</td>\n",
       "      <td>-0.966272</td>\n",
       "      <td>-0.185226</td>\n",
       "      <td>1.792993</td>\n",
       "      <td>-0.863291</td>\n",
       "      <td>-0.010309</td>\n",
       "      <td>1.247203</td>\n",
       "      <td>0.237609</td>\n",
       "      <td>0.377436</td>\n",
       "      <td>-1.387024</td>\n",
       "      <td>...</td>\n",
       "      <td>-0.108300</td>\n",
       "      <td>0.005274</td>\n",
       "      <td>-0.190321</td>\n",
       "      <td>-1.175575</td>\n",
       "      <td>0.647376</td>\n",
       "      <td>-0.221929</td>\n",
       "      <td>0.062723</td>\n",
       "      <td>0.061458</td>\n",
       "      <td>123.50</td>\n",
       "      <td>0</td>\n",
       "    </tr>\n",
       "    <tr>\n",
       "      <th>4</th>\n",
       "      <td>2.0</td>\n",
       "      <td>-1.158233</td>\n",
       "      <td>0.877737</td>\n",
       "      <td>1.548718</td>\n",
       "      <td>0.403034</td>\n",
       "      <td>-0.407193</td>\n",
       "      <td>0.095921</td>\n",
       "      <td>0.592941</td>\n",
       "      <td>-0.270533</td>\n",
       "      <td>0.817739</td>\n",
       "      <td>...</td>\n",
       "      <td>-0.009431</td>\n",
       "      <td>0.798278</td>\n",
       "      <td>-0.137458</td>\n",
       "      <td>0.141267</td>\n",
       "      <td>-0.206010</td>\n",
       "      <td>0.502292</td>\n",
       "      <td>0.219422</td>\n",
       "      <td>0.215153</td>\n",
       "      <td>69.99</td>\n",
       "      <td>0</td>\n",
       "    </tr>\n",
       "  </tbody>\n",
       "</table>\n",
       "<p>5 rows × 31 columns</p>\n",
       "</div>"
      ],
      "text/plain": [
       "   Time        V1        V2        V3        V4        V5        V6        V7  \\\n",
       "0   0.0 -1.359807 -0.072781  2.536347  1.378155 -0.338321  0.462388  0.239599   \n",
       "1   0.0  1.191857  0.266151  0.166480  0.448154  0.060018 -0.082361 -0.078803   \n",
       "2   1.0 -1.358354 -1.340163  1.773209  0.379780 -0.503198  1.800499  0.791461   \n",
       "3   1.0 -0.966272 -0.185226  1.792993 -0.863291 -0.010309  1.247203  0.237609   \n",
       "4   2.0 -1.158233  0.877737  1.548718  0.403034 -0.407193  0.095921  0.592941   \n",
       "\n",
       "         V8        V9  ...       V21       V22       V23       V24       V25  \\\n",
       "0  0.098698  0.363787  ... -0.018307  0.277838 -0.110474  0.066928  0.128539   \n",
       "1  0.085102 -0.255425  ... -0.225775 -0.638672  0.101288 -0.339846  0.167170   \n",
       "2  0.247676 -1.514654  ...  0.247998  0.771679  0.909412 -0.689281 -0.327642   \n",
       "3  0.377436 -1.387024  ... -0.108300  0.005274 -0.190321 -1.175575  0.647376   \n",
       "4 -0.270533  0.817739  ... -0.009431  0.798278 -0.137458  0.141267 -0.206010   \n",
       "\n",
       "        V26       V27       V28  Amount  Class  \n",
       "0 -0.189115  0.133558 -0.021053  149.62      0  \n",
       "1  0.125895 -0.008983  0.014724    2.69      0  \n",
       "2 -0.139097 -0.055353 -0.059752  378.66      0  \n",
       "3 -0.221929  0.062723  0.061458  123.50      0  \n",
       "4  0.502292  0.219422  0.215153   69.99      0  \n",
       "\n",
       "[5 rows x 31 columns]"
      ]
     },
     "execution_count": 6,
     "metadata": {},
     "output_type": "execute_result"
    }
   ],
   "source": [
    "# show First 5 rows of data_set\n",
    "data_set.head()"
   ]
  },
  {
   "cell_type": "code",
   "execution_count": 7,
   "id": "b8b23813",
   "metadata": {},
   "outputs": [],
   "source": [
    "#The dataset comprises of 284807 transactions, with the features V1, V2, V3, V4, ..., V28 that are obtained using PCA(Principal Component Analysis).\n",
    "#Time column is the feature that indicates the duration between every transaction occuring and the first transaction.\n",
    "#Amount column is the feature that contains the transacted amount.\n",
    "#Class contains either 0 or 1, where 1 is referred to fraud and 0 for no fraud."
   ]
  },
  {
   "cell_type": "code",
   "execution_count": 8,
   "id": "f0dfad14",
   "metadata": {},
   "outputs": [
    {
     "data": {
      "text/html": [
       "<div>\n",
       "<style scoped>\n",
       "    .dataframe tbody tr th:only-of-type {\n",
       "        vertical-align: middle;\n",
       "    }\n",
       "\n",
       "    .dataframe tbody tr th {\n",
       "        vertical-align: top;\n",
       "    }\n",
       "\n",
       "    .dataframe thead th {\n",
       "        text-align: right;\n",
       "    }\n",
       "</style>\n",
       "<table border=\"1\" class=\"dataframe\">\n",
       "  <thead>\n",
       "    <tr style=\"text-align: right;\">\n",
       "      <th></th>\n",
       "      <th>Time</th>\n",
       "      <th>V1</th>\n",
       "      <th>V2</th>\n",
       "      <th>V3</th>\n",
       "      <th>V4</th>\n",
       "      <th>V5</th>\n",
       "      <th>V6</th>\n",
       "      <th>V7</th>\n",
       "      <th>V8</th>\n",
       "      <th>V9</th>\n",
       "      <th>...</th>\n",
       "      <th>V21</th>\n",
       "      <th>V22</th>\n",
       "      <th>V23</th>\n",
       "      <th>V24</th>\n",
       "      <th>V25</th>\n",
       "      <th>V26</th>\n",
       "      <th>V27</th>\n",
       "      <th>V28</th>\n",
       "      <th>Amount</th>\n",
       "      <th>Class</th>\n",
       "    </tr>\n",
       "  </thead>\n",
       "  <tbody>\n",
       "    <tr>\n",
       "      <th>count</th>\n",
       "      <td>284807.000000</td>\n",
       "      <td>2.848070e+05</td>\n",
       "      <td>2.848070e+05</td>\n",
       "      <td>2.848070e+05</td>\n",
       "      <td>2.848070e+05</td>\n",
       "      <td>2.848070e+05</td>\n",
       "      <td>2.848070e+05</td>\n",
       "      <td>2.848070e+05</td>\n",
       "      <td>2.848070e+05</td>\n",
       "      <td>2.848070e+05</td>\n",
       "      <td>...</td>\n",
       "      <td>2.848070e+05</td>\n",
       "      <td>2.848070e+05</td>\n",
       "      <td>2.848070e+05</td>\n",
       "      <td>2.848070e+05</td>\n",
       "      <td>2.848070e+05</td>\n",
       "      <td>2.848070e+05</td>\n",
       "      <td>2.848070e+05</td>\n",
       "      <td>2.848070e+05</td>\n",
       "      <td>284807.000000</td>\n",
       "      <td>284807.000000</td>\n",
       "    </tr>\n",
       "    <tr>\n",
       "      <th>mean</th>\n",
       "      <td>94813.859575</td>\n",
       "      <td>3.918649e-15</td>\n",
       "      <td>5.682686e-16</td>\n",
       "      <td>-8.761736e-15</td>\n",
       "      <td>2.811118e-15</td>\n",
       "      <td>-1.552103e-15</td>\n",
       "      <td>2.040130e-15</td>\n",
       "      <td>-1.698953e-15</td>\n",
       "      <td>-1.893285e-16</td>\n",
       "      <td>-3.147640e-15</td>\n",
       "      <td>...</td>\n",
       "      <td>1.473120e-16</td>\n",
       "      <td>8.042109e-16</td>\n",
       "      <td>5.282512e-16</td>\n",
       "      <td>4.456271e-15</td>\n",
       "      <td>1.426896e-15</td>\n",
       "      <td>1.701640e-15</td>\n",
       "      <td>-3.662252e-16</td>\n",
       "      <td>-1.217809e-16</td>\n",
       "      <td>88.349619</td>\n",
       "      <td>0.001727</td>\n",
       "    </tr>\n",
       "    <tr>\n",
       "      <th>std</th>\n",
       "      <td>47488.145955</td>\n",
       "      <td>1.958696e+00</td>\n",
       "      <td>1.651309e+00</td>\n",
       "      <td>1.516255e+00</td>\n",
       "      <td>1.415869e+00</td>\n",
       "      <td>1.380247e+00</td>\n",
       "      <td>1.332271e+00</td>\n",
       "      <td>1.237094e+00</td>\n",
       "      <td>1.194353e+00</td>\n",
       "      <td>1.098632e+00</td>\n",
       "      <td>...</td>\n",
       "      <td>7.345240e-01</td>\n",
       "      <td>7.257016e-01</td>\n",
       "      <td>6.244603e-01</td>\n",
       "      <td>6.056471e-01</td>\n",
       "      <td>5.212781e-01</td>\n",
       "      <td>4.822270e-01</td>\n",
       "      <td>4.036325e-01</td>\n",
       "      <td>3.300833e-01</td>\n",
       "      <td>250.120109</td>\n",
       "      <td>0.041527</td>\n",
       "    </tr>\n",
       "    <tr>\n",
       "      <th>min</th>\n",
       "      <td>0.000000</td>\n",
       "      <td>-5.640751e+01</td>\n",
       "      <td>-7.271573e+01</td>\n",
       "      <td>-4.832559e+01</td>\n",
       "      <td>-5.683171e+00</td>\n",
       "      <td>-1.137433e+02</td>\n",
       "      <td>-2.616051e+01</td>\n",
       "      <td>-4.355724e+01</td>\n",
       "      <td>-7.321672e+01</td>\n",
       "      <td>-1.343407e+01</td>\n",
       "      <td>...</td>\n",
       "      <td>-3.483038e+01</td>\n",
       "      <td>-1.093314e+01</td>\n",
       "      <td>-4.480774e+01</td>\n",
       "      <td>-2.836627e+00</td>\n",
       "      <td>-1.029540e+01</td>\n",
       "      <td>-2.604551e+00</td>\n",
       "      <td>-2.256568e+01</td>\n",
       "      <td>-1.543008e+01</td>\n",
       "      <td>0.000000</td>\n",
       "      <td>0.000000</td>\n",
       "    </tr>\n",
       "    <tr>\n",
       "      <th>25%</th>\n",
       "      <td>54201.500000</td>\n",
       "      <td>-9.203734e-01</td>\n",
       "      <td>-5.985499e-01</td>\n",
       "      <td>-8.903648e-01</td>\n",
       "      <td>-8.486401e-01</td>\n",
       "      <td>-6.915971e-01</td>\n",
       "      <td>-7.682956e-01</td>\n",
       "      <td>-5.540759e-01</td>\n",
       "      <td>-2.086297e-01</td>\n",
       "      <td>-6.430976e-01</td>\n",
       "      <td>...</td>\n",
       "      <td>-2.283949e-01</td>\n",
       "      <td>-5.423504e-01</td>\n",
       "      <td>-1.618463e-01</td>\n",
       "      <td>-3.545861e-01</td>\n",
       "      <td>-3.171451e-01</td>\n",
       "      <td>-3.269839e-01</td>\n",
       "      <td>-7.083953e-02</td>\n",
       "      <td>-5.295979e-02</td>\n",
       "      <td>5.600000</td>\n",
       "      <td>0.000000</td>\n",
       "    </tr>\n",
       "    <tr>\n",
       "      <th>50%</th>\n",
       "      <td>84692.000000</td>\n",
       "      <td>1.810880e-02</td>\n",
       "      <td>6.548556e-02</td>\n",
       "      <td>1.798463e-01</td>\n",
       "      <td>-1.984653e-02</td>\n",
       "      <td>-5.433583e-02</td>\n",
       "      <td>-2.741871e-01</td>\n",
       "      <td>4.010308e-02</td>\n",
       "      <td>2.235804e-02</td>\n",
       "      <td>-5.142873e-02</td>\n",
       "      <td>...</td>\n",
       "      <td>-2.945017e-02</td>\n",
       "      <td>6.781943e-03</td>\n",
       "      <td>-1.119293e-02</td>\n",
       "      <td>4.097606e-02</td>\n",
       "      <td>1.659350e-02</td>\n",
       "      <td>-5.213911e-02</td>\n",
       "      <td>1.342146e-03</td>\n",
       "      <td>1.124383e-02</td>\n",
       "      <td>22.000000</td>\n",
       "      <td>0.000000</td>\n",
       "    </tr>\n",
       "    <tr>\n",
       "      <th>75%</th>\n",
       "      <td>139320.500000</td>\n",
       "      <td>1.315642e+00</td>\n",
       "      <td>8.037239e-01</td>\n",
       "      <td>1.027196e+00</td>\n",
       "      <td>7.433413e-01</td>\n",
       "      <td>6.119264e-01</td>\n",
       "      <td>3.985649e-01</td>\n",
       "      <td>5.704361e-01</td>\n",
       "      <td>3.273459e-01</td>\n",
       "      <td>5.971390e-01</td>\n",
       "      <td>...</td>\n",
       "      <td>1.863772e-01</td>\n",
       "      <td>5.285536e-01</td>\n",
       "      <td>1.476421e-01</td>\n",
       "      <td>4.395266e-01</td>\n",
       "      <td>3.507156e-01</td>\n",
       "      <td>2.409522e-01</td>\n",
       "      <td>9.104512e-02</td>\n",
       "      <td>7.827995e-02</td>\n",
       "      <td>77.165000</td>\n",
       "      <td>0.000000</td>\n",
       "    </tr>\n",
       "    <tr>\n",
       "      <th>max</th>\n",
       "      <td>172792.000000</td>\n",
       "      <td>2.454930e+00</td>\n",
       "      <td>2.205773e+01</td>\n",
       "      <td>9.382558e+00</td>\n",
       "      <td>1.687534e+01</td>\n",
       "      <td>3.480167e+01</td>\n",
       "      <td>7.330163e+01</td>\n",
       "      <td>1.205895e+02</td>\n",
       "      <td>2.000721e+01</td>\n",
       "      <td>1.559499e+01</td>\n",
       "      <td>...</td>\n",
       "      <td>2.720284e+01</td>\n",
       "      <td>1.050309e+01</td>\n",
       "      <td>2.252841e+01</td>\n",
       "      <td>4.584549e+00</td>\n",
       "      <td>7.519589e+00</td>\n",
       "      <td>3.517346e+00</td>\n",
       "      <td>3.161220e+01</td>\n",
       "      <td>3.384781e+01</td>\n",
       "      <td>25691.160000</td>\n",
       "      <td>1.000000</td>\n",
       "    </tr>\n",
       "  </tbody>\n",
       "</table>\n",
       "<p>8 rows × 31 columns</p>\n",
       "</div>"
      ],
      "text/plain": [
       "                Time            V1            V2            V3            V4  \\\n",
       "count  284807.000000  2.848070e+05  2.848070e+05  2.848070e+05  2.848070e+05   \n",
       "mean    94813.859575  3.918649e-15  5.682686e-16 -8.761736e-15  2.811118e-15   \n",
       "std     47488.145955  1.958696e+00  1.651309e+00  1.516255e+00  1.415869e+00   \n",
       "min         0.000000 -5.640751e+01 -7.271573e+01 -4.832559e+01 -5.683171e+00   \n",
       "25%     54201.500000 -9.203734e-01 -5.985499e-01 -8.903648e-01 -8.486401e-01   \n",
       "50%     84692.000000  1.810880e-02  6.548556e-02  1.798463e-01 -1.984653e-02   \n",
       "75%    139320.500000  1.315642e+00  8.037239e-01  1.027196e+00  7.433413e-01   \n",
       "max    172792.000000  2.454930e+00  2.205773e+01  9.382558e+00  1.687534e+01   \n",
       "\n",
       "                 V5            V6            V7            V8            V9  \\\n",
       "count  2.848070e+05  2.848070e+05  2.848070e+05  2.848070e+05  2.848070e+05   \n",
       "mean  -1.552103e-15  2.040130e-15 -1.698953e-15 -1.893285e-16 -3.147640e-15   \n",
       "std    1.380247e+00  1.332271e+00  1.237094e+00  1.194353e+00  1.098632e+00   \n",
       "min   -1.137433e+02 -2.616051e+01 -4.355724e+01 -7.321672e+01 -1.343407e+01   \n",
       "25%   -6.915971e-01 -7.682956e-01 -5.540759e-01 -2.086297e-01 -6.430976e-01   \n",
       "50%   -5.433583e-02 -2.741871e-01  4.010308e-02  2.235804e-02 -5.142873e-02   \n",
       "75%    6.119264e-01  3.985649e-01  5.704361e-01  3.273459e-01  5.971390e-01   \n",
       "max    3.480167e+01  7.330163e+01  1.205895e+02  2.000721e+01  1.559499e+01   \n",
       "\n",
       "       ...           V21           V22           V23           V24  \\\n",
       "count  ...  2.848070e+05  2.848070e+05  2.848070e+05  2.848070e+05   \n",
       "mean   ...  1.473120e-16  8.042109e-16  5.282512e-16  4.456271e-15   \n",
       "std    ...  7.345240e-01  7.257016e-01  6.244603e-01  6.056471e-01   \n",
       "min    ... -3.483038e+01 -1.093314e+01 -4.480774e+01 -2.836627e+00   \n",
       "25%    ... -2.283949e-01 -5.423504e-01 -1.618463e-01 -3.545861e-01   \n",
       "50%    ... -2.945017e-02  6.781943e-03 -1.119293e-02  4.097606e-02   \n",
       "75%    ...  1.863772e-01  5.285536e-01  1.476421e-01  4.395266e-01   \n",
       "max    ...  2.720284e+01  1.050309e+01  2.252841e+01  4.584549e+00   \n",
       "\n",
       "                V25           V26           V27           V28         Amount  \\\n",
       "count  2.848070e+05  2.848070e+05  2.848070e+05  2.848070e+05  284807.000000   \n",
       "mean   1.426896e-15  1.701640e-15 -3.662252e-16 -1.217809e-16      88.349619   \n",
       "std    5.212781e-01  4.822270e-01  4.036325e-01  3.300833e-01     250.120109   \n",
       "min   -1.029540e+01 -2.604551e+00 -2.256568e+01 -1.543008e+01       0.000000   \n",
       "25%   -3.171451e-01 -3.269839e-01 -7.083953e-02 -5.295979e-02       5.600000   \n",
       "50%    1.659350e-02 -5.213911e-02  1.342146e-03  1.124383e-02      22.000000   \n",
       "75%    3.507156e-01  2.409522e-01  9.104512e-02  7.827995e-02      77.165000   \n",
       "max    7.519589e+00  3.517346e+00  3.161220e+01  3.384781e+01   25691.160000   \n",
       "\n",
       "               Class  \n",
       "count  284807.000000  \n",
       "mean        0.001727  \n",
       "std         0.041527  \n",
       "min         0.000000  \n",
       "25%         0.000000  \n",
       "50%         0.000000  \n",
       "75%         0.000000  \n",
       "max         1.000000  \n",
       "\n",
       "[8 rows x 31 columns]"
      ]
     },
     "execution_count": 8,
     "metadata": {},
     "output_type": "execute_result"
    }
   ],
   "source": [
    "#Understand the mean, count, standard_deviation and median(25th, 50th, 75th percentile of dataset)\n",
    "data_set.describe()"
   ]
  },
  {
   "cell_type": "code",
   "execution_count": 9,
   "id": "e0575314",
   "metadata": {},
   "outputs": [],
   "source": [
    "#Now we need to find the number of fraud transactions and number of genuine transactions"
   ]
  },
  {
   "cell_type": "code",
   "execution_count": 10,
   "id": "46116b8b",
   "metadata": {},
   "outputs": [],
   "source": [
    "# Zero's are Genuine transations\n",
    "# One's are Fraudulent transations\n",
    "genuine = data_set[data_set[\"Class\"] == 0]\n",
    "fraud = data_set[data_set[\"Class\"] == 1]"
   ]
  },
  {
   "cell_type": "code",
   "execution_count": 11,
   "id": "a0f48e45",
   "metadata": {},
   "outputs": [
    {
     "name": "stdout",
     "output_type": "stream",
     "text": [
      "Number of Genuine transactions =  284315\n",
      "Number of fraudulent transactions =  492\n"
     ]
    }
   ],
   "source": [
    "print(\"Number of Genuine transactions = \", genuine.Class.value_counts()[0])\n",
    "print(\"Number of fraudulent transactions = \", fraud.Class.value_counts()[1])"
   ]
  },
  {
   "cell_type": "code",
   "execution_count": 12,
   "id": "2ad3301c",
   "metadata": {},
   "outputs": [],
   "source": [
    "# Lets see a sns plot between fraud and genuine transactions"
   ]
  },
  {
   "cell_type": "code",
   "execution_count": 13,
   "id": "0692d44c",
   "metadata": {},
   "outputs": [
    {
     "data": {
      "image/png": "[encoded data removed]",
      "text/plain": [
       "<Figure size 432x288 with 1 Axes>"
      ]
     },
     "metadata": {
      "needs_background": "light"
     },
     "output_type": "display_data"
    }
   ],
   "source": [
    "sns.countplot(x = \"Class\", data = data_set)\n",
    "plt.title(\"Unbalanced Classes for Genuine transaction(0) and Fraud transaction(1)\")\n",
    "plt.savefig(\"Before UnderSampling\")\n",
    "plt.show()"
   ]
  },
  {
   "cell_type": "code",
   "execution_count": 14,
   "id": "4ccb609c",
   "metadata": {},
   "outputs": [],
   "source": [
    "#Very huge difference between number of genuine and fraudulent transactions in respect to the classes as seen from the count and sns countplot.\n",
    "#That means dataset is very much imbalanced, but what is imbalanced dataset?\n",
    "#Imbalanced Dataset = Imbalanced data refers to those types of datasets where the target class has an uneven distribution of observations, i.e one class label has a very high number of observations and the other has a very low number of observations."
   ]
  },
  {
   "cell_type": "code",
   "execution_count": 15,
   "id": "b2628249",
   "metadata": {},
   "outputs": [],
   "source": [
    "# Lets see a plot for features Amount and Time"
   ]
  },
  {
   "cell_type": "code",
   "execution_count": 16,
   "id": "0467ac49",
   "metadata": {},
   "outputs": [
    {
     "data": {
      "image/png": "[encoded data removed]",
      "text/plain": [
       "<Figure size 432x288 with 1 Axes>"
      ]
     },
     "metadata": {
      "needs_background": "light"
     },
     "output_type": "display_data"
    }
   ],
   "source": [
    "data_set.plot(x=\"Amount\", y=[\"Time\", \"Class\"])\n",
    "plt.title(\"Before Scaling\")\n",
    "plt.savefig(\"Before Scaling\")\n",
    "plt.show()"
   ]
  },
  {
   "cell_type": "code",
   "execution_count": 17,
   "id": "22f464ed",
   "metadata": {},
   "outputs": [],
   "source": [
    "#From the above plot we could see that features Amount and Time are not scaled"
   ]
  },
  {
   "cell_type": "code",
   "execution_count": 18,
   "id": "401fbc8f",
   "metadata": {},
   "outputs": [],
   "source": [
    "# Lets use the heatmap to find any correlations for the features.\n",
    "#Correlation is a table that shows the relation 2 features. It helps to understand data more deeply. \n",
    "#With colors and heatmap chart it helps you to visualize and spot difference very efficiently."
   ]
  },
  {
   "cell_type": "code",
   "execution_count": 19,
   "id": "c32d523e",
   "metadata": {},
   "outputs": [
    {
     "data": {
      "image/png": "[encoded data removed]",
      "text/plain": [
       "<Figure size 720x720 with 2 Axes>"
      ]
     },
     "metadata": {
      "needs_background": "light"
     },
     "output_type": "display_data"
    }
   ],
   "source": [
    "plt.figure(figsize=(10,10))\n",
    "sns.heatmap(data_set.corr(), cmap=\"seismic\")\n",
    "plt.title(\"Heatmap for correlation of features (V1-V28)\")\n",
    "plt.savefig(\"HeatMap for correlations of features (V1-V28)\")\n",
    "plt.show()"
   ]
  },
  {
   "cell_type": "code",
   "execution_count": 20,
   "id": "d6d2160c",
   "metadata": {},
   "outputs": [],
   "source": [
    "# From this heat map, we can see the highest correlations are observed between Time & V3[<-0.4], Amount & V2[<-0.4], Amount & V4[0.19]\n",
    "# Also from this heat map, features V1-V28 somehow have close inter-connection with each other.\n",
    "# But class feature has some positive and negative correlation with all V-features, whereas it doesnot have any correlation with\n",
    "# the Feature Time and Amount."
   ]
  },
  {
   "cell_type": "code",
   "execution_count": 21,
   "id": "ffcd669c",
   "metadata": {},
   "outputs": [],
   "source": [
    "# From the above correlation, it clearly indicates that all V-features scaled, but [Time and Amount] isn't scaled.\n",
    "# So scaling them is first priority.\n",
    "# Then once its scaled, they have to be dropped from the dataset.\n",
    "# Then we can move forward for either oversampling/undersampling."
   ]
  },
  {
   "cell_type": "code",
   "execution_count": 22,
   "id": "b014f7eb",
   "metadata": {},
   "outputs": [],
   "source": [
    "# We are using MinMax scaler to scale the two features Amount and Time based on the minimum and maximum value.\n",
    "# From the above plot we clearly saw the amount ranges between [0-25000], whereas Time ranges between [0-175000]\n",
    "# To undermine this data, we thought of a way to eliminate the median values, instead consider the minimum and maximum values of the dataset."
   ]
  },
  {
   "cell_type": "code",
   "execution_count": 23,
   "id": "b85e3530",
   "metadata": {},
   "outputs": [],
   "source": [
    "minmax_scale = MinMaxScaler()\n",
    "\n",
    "data_set['scaled_amount']=minmax_scale.fit_transform(data_set['Amount'].values.reshape(-1,1))\n",
    "data_set['scaled_Time']=minmax_scale.fit_transform(data_set['Time'].values.reshape(-1,1))\n",
    "\n",
    "data_set.drop(['Amount','Time'], axis=1,inplace=True)"
   ]
  },
  {
   "cell_type": "code",
   "execution_count": 24,
   "id": "a6c70c14",
   "metadata": {},
   "outputs": [
    {
     "data": {
      "image/png": "[encoded data removed]",
      "text/plain": [
       "<Figure size 432x288 with 1 Axes>"
      ]
     },
     "metadata": {
      "needs_background": "light"
     },
     "output_type": "display_data"
    }
   ],
   "source": [
    "data_set.plot(x=\"scaled_amount\", y=[\"scaled_Time\", \"Class\"])\n",
    "plt.title(\"After Scaling\")\n",
    "plt.savefig(\"After Scaling\")\n",
    "plt.show()"
   ]
  },
  {
   "cell_type": "code",
   "execution_count": 25,
   "id": "6d961801",
   "metadata": {},
   "outputs": [],
   "source": [
    "# So now, this looks good we have both the features [Time and Amount] in range between [0-1]."
   ]
  },
  {
   "cell_type": "code",
   "execution_count": 26,
   "id": "250a11f8",
   "metadata": {},
   "outputs": [],
   "source": [
    "# Lets see the new heatmap to after scaling the features time and amount."
   ]
  },
  {
   "cell_type": "code",
   "execution_count": 27,
   "id": "ef9c60c6",
   "metadata": {},
   "outputs": [
    {
     "data": {
      "image/png": "[encoded data removed]",
      "text/plain": [
       "<Figure size 720x720 with 2 Axes>"
      ]
     },
     "metadata": {
      "needs_background": "light"
     },
     "output_type": "display_data"
    }
   ],
   "source": [
    "plt.figure(figsize=(10,10))\n",
    "sns.heatmap(data_set.corr(), cmap=\"seismic\")\n",
    "plt.savefig(\"HeatMap for correlations after scaling[Time and Amount]\")\n",
    "plt.show()"
   ]
  },
  {
   "cell_type": "code",
   "execution_count": 28,
   "id": "f6b96d74",
   "metadata": {},
   "outputs": [],
   "source": [
    "# After scaling the Data lets move ahead with Handling the imbalanced data\n",
    "# That means we can move ahead for Sampling techniques.\n",
    "# But in our case, we have 492 fraud cases and 284315 genuine cases.\n",
    "# In our opinion, undersampling would be much easier and feasible.\n",
    "#Undersampling is a technique to balance uneven datasets by keeping all of the data in the minority class and decreasing the size of the majority class. \n",
    "#It is one of several techniques data scientists can use to extract more accurate information from originally imbalanced datasets."
   ]
  },
  {
   "cell_type": "markdown",
   "id": "8e7405c0",
   "metadata": {},
   "source": [
    "# Random undersampling"
   ]
  },
  {
   "cell_type": "code",
   "execution_count": 29,
   "id": "6959129f",
   "metadata": {},
   "outputs": [],
   "source": [
    "# First, we will shuffle the whole dataset with random state=4\n",
    "# Extract fraud ones onto a different dataset fraud_dataset\n",
    "# In the fraud we have 492 observations.\n",
    "# Now we have to select 492 random observations from 284315 genuine observations as non_fraud_dataset.\n",
    "# Then concat both fraud_dataset and non_fraud_dataset into normalized one."
   ]
  },
  {
   "cell_type": "code",
   "execution_count": 30,
   "id": "63e786c0",
   "metadata": {},
   "outputs": [],
   "source": [
    "# Shuffle the Dataset.\n",
    "shuffled_data_set = data_set.sample(frac=1,random_state=4)\n",
    "\n",
    "# Put all the fraud class in a separate dataset.\n",
    "fraud_data_set = shuffled_data_set.loc[shuffled_data_set['Class'] == 1]\n",
    "\n",
    "#Randomly select 492 observations from the genuine (majority class)\n",
    "genuine_data_set = shuffled_data_set.loc[shuffled_data_set['Class'] == 0].sample(n=492,random_state=42)\n",
    "\n",
    "# Concatenate both dataframes again\n",
    "normalized_data_set = pd.concat([fraud_data_set, genuine_data_set])"
   ]
  },
  {
   "cell_type": "markdown",
   "id": "53921eff",
   "metadata": {},
   "source": [
    "# NearMiss undersampling"
   ]
  },
  {
   "cell_type": "code",
   "execution_count": 31,
   "id": "3a4a69f7",
   "metadata": {},
   "outputs": [],
   "source": [
    "# Drop class column from dataset and label it as feature matrix.\n",
    "X_for_nearmiss = data_set.drop(columns='Class', axis=1)\n",
    "# Label class column from dataset as target vector.\n",
    "Y_for_nearmiss = data_set['Class']"
   ]
  },
  {
   "cell_type": "code",
   "execution_count": 32,
   "id": "445245e0",
   "metadata": {},
   "outputs": [],
   "source": [
    "# Fit the target vector and feature matrix.\n",
    "nearmiss = NearMiss(version=2)\n",
    "X_nearmiss, y_nearmiss = nearmiss.fit_resample(X_for_nearmiss, Y_for_nearmiss)"
   ]
  },
  {
   "cell_type": "code",
   "execution_count": 33,
   "id": "fe5416b4",
   "metadata": {},
   "outputs": [
    {
     "name": "stdout",
     "output_type": "stream",
     "text": [
      "Before NearMiss undersampling\n"
     ]
    },
    {
     "ename": "TypeError",
     "evalue": "savefig() missing 1 required positional argument: 'fname'",
     "output_type": "error",
     "traceback": [
      "\u001b[1;31m---------------------------------------------------------------------------\u001b[0m",
      "\u001b[1;31mTypeError\u001b[0m                                 Traceback (most recent call last)",
      "\u001b[1;32m<ipython-input-33-b7e227468412>\u001b[0m in \u001b[0;36m<module>\u001b[1;34m\u001b[0m\n\u001b[0;32m      8\u001b[0m \u001b[1;33m\u001b[0m\u001b[0m\n\u001b[0;32m      9\u001b[0m \u001b[0mprint\u001b[0m\u001b[1;33m(\u001b[0m\u001b[1;34m'Before NearMiss undersampling'\u001b[0m\u001b[1;33m)\u001b[0m\u001b[1;33m\u001b[0m\u001b[1;33m\u001b[0m\u001b[0m\n\u001b[1;32m---> 10\u001b[1;33m \u001b[0mscatter_plotting\u001b[0m\u001b[1;33m(\u001b[0m\u001b[0mX_for_nearmiss\u001b[0m\u001b[1;33m.\u001b[0m\u001b[0mvalues\u001b[0m\u001b[1;33m,\u001b[0m \u001b[0mY_for_nearmiss\u001b[0m\u001b[1;33m)\u001b[0m\u001b[1;33m\u001b[0m\u001b[1;33m\u001b[0m\u001b[0m\n\u001b[0m",
      "\u001b[1;32m<ipython-input-33-b7e227468412>\u001b[0m in \u001b[0;36mscatter_plotting\u001b[1;34m(X, y)\u001b[0m\n\u001b[0;32m      4\u001b[0m     \u001b[0mplt\u001b[0m\u001b[1;33m.\u001b[0m\u001b[0mscatter\u001b[0m\u001b[1;33m(\u001b[0m\u001b[0mX\u001b[0m\u001b[1;33m[\u001b[0m\u001b[0my\u001b[0m \u001b[1;33m==\u001b[0m \u001b[1;36m1\u001b[0m\u001b[1;33m,\u001b[0m \u001b[1;36m0\u001b[0m\u001b[1;33m]\u001b[0m\u001b[1;33m,\u001b[0m \u001b[0mX\u001b[0m\u001b[1;33m[\u001b[0m\u001b[0my\u001b[0m \u001b[1;33m==\u001b[0m \u001b[1;36m1\u001b[0m\u001b[1;33m,\u001b[0m \u001b[1;36m1\u001b[0m\u001b[1;33m]\u001b[0m\u001b[1;33m,\u001b[0m \u001b[0mlabel\u001b[0m\u001b[1;33m=\u001b[0m\u001b[1;34m\"fraud\"\u001b[0m\u001b[1;33m,\u001b[0m \u001b[0malpha\u001b[0m\u001b[1;33m=\u001b[0m\u001b[1;36m0.5\u001b[0m\u001b[1;33m,\u001b[0m \u001b[0mlinewidth\u001b[0m\u001b[1;33m=\u001b[0m\u001b[1;36m0.2\u001b[0m\u001b[1;33m,\u001b[0m \u001b[0mc\u001b[0m\u001b[1;33m=\u001b[0m\u001b[1;34m'r'\u001b[0m\u001b[1;33m)\u001b[0m\u001b[1;33m\u001b[0m\u001b[1;33m\u001b[0m\u001b[0m\n\u001b[0;32m      5\u001b[0m     \u001b[0mplt\u001b[0m\u001b[1;33m.\u001b[0m\u001b[0mlegend\u001b[0m\u001b[1;33m(\u001b[0m\u001b[1;33m)\u001b[0m\u001b[1;33m\u001b[0m\u001b[1;33m\u001b[0m\u001b[0m\n\u001b[1;32m----> 6\u001b[1;33m     \u001b[0mplt\u001b[0m\u001b[1;33m.\u001b[0m\u001b[0msavefig\u001b[0m\u001b[1;33m(\u001b[0m\u001b[1;33m)\u001b[0m\u001b[1;33m\u001b[0m\u001b[1;33m\u001b[0m\u001b[0m\n\u001b[0m\u001b[0;32m      7\u001b[0m     \u001b[1;32mreturn\u001b[0m \u001b[0mplt\u001b[0m\u001b[1;33m.\u001b[0m\u001b[0mshow\u001b[0m\u001b[1;33m(\u001b[0m\u001b[1;33m)\u001b[0m\u001b[1;33m\u001b[0m\u001b[1;33m\u001b[0m\u001b[0m\n\u001b[0;32m      8\u001b[0m \u001b[1;33m\u001b[0m\u001b[0m\n",
      "\u001b[1;32mC:\\Program Files\\Anaconda3\\lib\\site-packages\\matplotlib\\pyplot.py\u001b[0m in \u001b[0;36msavefig\u001b[1;34m(*args, **kwargs)\u001b[0m\n\u001b[0;32m    857\u001b[0m \u001b[1;32mdef\u001b[0m \u001b[0msavefig\u001b[0m\u001b[1;33m(\u001b[0m\u001b[1;33m*\u001b[0m\u001b[0margs\u001b[0m\u001b[1;33m,\u001b[0m \u001b[1;33m**\u001b[0m\u001b[0mkwargs\u001b[0m\u001b[1;33m)\u001b[0m\u001b[1;33m:\u001b[0m\u001b[1;33m\u001b[0m\u001b[1;33m\u001b[0m\u001b[0m\n\u001b[0;32m    858\u001b[0m     \u001b[0mfig\u001b[0m \u001b[1;33m=\u001b[0m \u001b[0mgcf\u001b[0m\u001b[1;33m(\u001b[0m\u001b[1;33m)\u001b[0m\u001b[1;33m\u001b[0m\u001b[1;33m\u001b[0m\u001b[0m\n\u001b[1;32m--> 859\u001b[1;33m     \u001b[0mres\u001b[0m \u001b[1;33m=\u001b[0m \u001b[0mfig\u001b[0m\u001b[1;33m.\u001b[0m\u001b[0msavefig\u001b[0m\u001b[1;33m(\u001b[0m\u001b[1;33m*\u001b[0m\u001b[0margs\u001b[0m\u001b[1;33m,\u001b[0m \u001b[1;33m**\u001b[0m\u001b[0mkwargs\u001b[0m\u001b[1;33m)\u001b[0m\u001b[1;33m\u001b[0m\u001b[1;33m\u001b[0m\u001b[0m\n\u001b[0m\u001b[0;32m    860\u001b[0m     \u001b[0mfig\u001b[0m\u001b[1;33m.\u001b[0m\u001b[0mcanvas\u001b[0m\u001b[1;33m.\u001b[0m\u001b[0mdraw_idle\u001b[0m\u001b[1;33m(\u001b[0m\u001b[1;33m)\u001b[0m   \u001b[1;31m# need this if 'transparent=True' to reset colors\u001b[0m\u001b[1;33m\u001b[0m\u001b[1;33m\u001b[0m\u001b[0m\n\u001b[0;32m    861\u001b[0m     \u001b[1;32mreturn\u001b[0m \u001b[0mres\u001b[0m\u001b[1;33m\u001b[0m\u001b[1;33m\u001b[0m\u001b[0m\n",
      "\u001b[1;31mTypeError\u001b[0m: savefig() missing 1 required positional argument: 'fname'"
     ]
    },
    {
     "data": {
      "image/png": "[encoded data removed]",
      "text/plain": [
       "<Figure size 432x288 with 1 Axes>"
      ]
     },
     "metadata": {
      "needs_background": "light"
     },
     "output_type": "display_data"
    }
   ],
   "source": [
    "# A scatter plot to distinguish the genuine and fraud data\n",
    "def scatter_plotting(X, y):\n",
    "    plt.scatter(X[y == 0, 0], X[y == 0, 1], label=\"Genuine\", alpha=0.5, linewidth=0.2)\n",
    "    plt.scatter(X[y == 1, 0], X[y == 1, 1], label=\"fraud\", alpha=0.5, linewidth=0.2, c='r')\n",
    "    plt.legend()\n",
    "    return plt.show()\n",
    "\n",
    "print('Before NearMiss undersampling')\n",
    "scatter_plotting(X_for_nearmiss.values, Y_for_nearmiss)"
   ]
  },
  {
   "cell_type": "code",
   "execution_count": null,
   "id": "32340720",
   "metadata": {},
   "outputs": [],
   "source": [
    "def data_counter(data):\n",
    "    fraud = 0\n",
    "    genuine = 0\n",
    "    for i in data:\n",
    "        if i == 1:\n",
    "            fraud = fraud + 1\n",
    "        else:\n",
    "            genuine = genuine + 1\n",
    "    return fraud, genuine"
   ]
  },
  {
   "cell_type": "code",
   "execution_count": null,
   "id": "222e054b",
   "metadata": {},
   "outputs": [],
   "source": [
    "# After undersampling\n",
    "# 0 = Genuine\n",
    "# 1 = fraud\n",
    "fraud_counter_nearmiss, genuine_counter_nearmiss = data_counter(y_nearmiss)\n",
    "print('Total number of samples after undersampling =', len(y_nearmiss))\n",
    "print(' - number of fraud data =', fraud_counter_nearmiss)\n",
    "print(' - number of Genuine data =', genuine_counter_nearmiss)\n",
    "\n",
    "print('After NearMiss undersampling')\n",
    "scatter_plotting(X_nearmiss.values, y_nearmiss)\n",
    "\n",
    "# we can see that samples from the majority class that were furthest where removed"
   ]
  },
  {
   "cell_type": "code",
   "execution_count": null,
   "id": "daedc987",
   "metadata": {},
   "outputs": [],
   "source": [
    "# Lets see a sns plot between fraud and genuine transactions after scaling Time and amount"
   ]
  },
  {
   "cell_type": "code",
   "execution_count": null,
   "id": "4fa27861",
   "metadata": {},
   "outputs": [],
   "source": [
    "sns.countplot(x = \"Class\", data = normalized_data_set)\n",
    "plt.title(\"Balanced Classes after Random UnderSampling \")\n",
    "plt.savefig(\"After Random UnderSampling\")\n",
    "plt.show()"
   ]
  },
  {
   "cell_type": "code",
   "execution_count": null,
   "id": "db224c1b",
   "metadata": {},
   "outputs": [],
   "source": [
    "normalized_data_set.describe()"
   ]
  },
  {
   "cell_type": "code",
   "execution_count": null,
   "id": "db01a84d",
   "metadata": {},
   "outputs": [],
   "source": [
    "# Now that we have the dataset, lets start creating the target column Y and feature column X\n",
    "# Class is considered as the target"
   ]
  },
  {
   "cell_type": "code",
   "execution_count": null,
   "id": "020c937f",
   "metadata": {},
   "outputs": [],
   "source": [
    "X = normalized_data_set.drop(columns='Class', axis=1)\n",
    "y = normalized_data_set['Class']"
   ]
  },
  {
   "cell_type": "code",
   "execution_count": null,
   "id": "d76ff6b3",
   "metadata": {},
   "outputs": [],
   "source": [
    "print(\"X=\",X)\n",
    "print(\"Y=\",y)"
   ]
  },
  {
   "cell_type": "markdown",
   "id": "f858cd16",
   "metadata": {},
   "source": [
    "# Splitting data into training and testing sets"
   ]
  },
  {
   "cell_type": "markdown",
   "id": "a8fbada9",
   "metadata": {},
   "source": [
    "#### splitting data using simple undersampling data"
   ]
  },
  {
   "cell_type": "code",
   "execution_count": null,
   "id": "57258a9e",
   "metadata": {},
   "outputs": [],
   "source": [
    "# Split the data for X_train,X_test,y_train,y_test with test_size and random state\n",
    "X_train,X_test,y_train,y_test = train_test_split(X,y, test_size=0.3, random_state=42)"
   ]
  },
  {
   "cell_type": "markdown",
   "id": "af39d5f1",
   "metadata": {},
   "source": [
    "#### splitting data using NearMiss data"
   ]
  },
  {
   "cell_type": "code",
   "execution_count": null,
   "id": "e138c003",
   "metadata": {},
   "outputs": [],
   "source": [
    "X_train_nm,X_test_nm,y_train_nm,y_test_nm = train_test_split(X_nearmiss, y_nearmiss, test_size=0.3, random_state=42)"
   ]
  },
  {
   "cell_type": "code",
   "execution_count": null,
   "id": "62ac3186",
   "metadata": {},
   "outputs": [],
   "source": [
    "# Convert all the above generated to array for input to algorithms for easy task.\n",
    "X_train = X_train.values\n",
    "X_test = X_test.values\n",
    "y_train = y_train.values\n",
    "y_test = y_test.values\n",
    "\n",
    "X_train_nm = X_train_nm.values\n",
    "X_test_nm = X_test_nm.values\n",
    "y_train_nm = y_train_nm.values\n",
    "y_test_nm = y_test_nm.values"
   ]
  },
  {
   "cell_type": "markdown",
   "id": "b2336208",
   "metadata": {},
   "source": [
    "# Let's start with the models and algorithms."
   ]
  },
  {
   "cell_type": "markdown",
   "id": "299ad998",
   "metadata": {},
   "source": [
    "### k nearest neighbor"
   ]
  },
  {
   "cell_type": "code",
   "execution_count": null,
   "id": "cd2476d1",
   "metadata": {},
   "outputs": [],
   "source": [
    "def knn_classifier(X_train, y_train, X_test, y_test):\n",
    "    # 1. KNeighborsClassifier with k as an input to the classifier.\n",
    "    k = 3\n",
    "    knn_algorithm = KNeighborsClassifier(n_neighbors=k)\n",
    "    knn_algorithm.fit(X_train, y_train)\n",
    "    \n",
    "    y_predict_knn = knn_algorithm.predict(X_test)\n",
    "    y_predict_probab_knn = knn_algorithm.predict_proba(X_test)\n",
    "    knn_accuracy = accuracy_score(y_test, y_predict_knn)\n",
    "    pre_knn = precision_score(y_test,y_predict_knn)\n",
    "    recall_knn = recall_score(y_test,y_predict_knn)\n",
    "    f1_knn = f1_score(y_test,y_predict_knn)\n",
    "    \n",
    "    return knn_algorithm, y_predict_knn, y_predict_probab_knn, knn_accuracy, pre_knn, recall_knn, f1_knn"
   ]
  },
  {
   "cell_type": "code",
   "execution_count": null,
   "id": "e2e40522",
   "metadata": {},
   "outputs": [],
   "source": [
    "knn_algorithm, y_predict_knn, y_predict_probab_knn, knn_accuracy, pre_knn, recall_knn, f1_knn = knn_classifier(X_train, y_train, X_test, y_test)\n",
    "print(\"Accuracy score for KNN=\",knn_accuracy*100)\n",
    "print(\"Precision score for KNN=\",pre_knn*100)\n",
    "print(\"Recall score for KNN=\",recall_knn*100)\n",
    "print(\"F1 score for KNN=\",f1_knn*100)"
   ]
  },
  {
   "cell_type": "code",
   "execution_count": null,
   "id": "ebbd6012",
   "metadata": {},
   "outputs": [],
   "source": [
    "# using NearMiss data set\n",
    "knn_algorithm_NM, y_predict_knn_NM, y_predict_probab_knn_NM, knn_accuracy_NM, pre_knn_NM, recall_knn_NM, f1_knn_NM = knn_classifier(X_train_nm, y_train_nm, X_test_nm, y_test_nm)\n",
    "print(\"Accuracy score for KNN=\",knn_accuracy_NM*100)\n",
    "print(\"Precision score for KNN=\",pre_knn_NM*100)\n",
    "print(\"Recall score for KNN=\",recall_knn_NM*100)\n",
    "print(\"F1 score for KNN=\",f1_knn_NM*100)"
   ]
  },
  {
   "cell_type": "markdown",
   "id": "485c21ab",
   "metadata": {},
   "source": [
    "### Decision Tree"
   ]
  },
  {
   "cell_type": "code",
   "execution_count": null,
   "id": "17aef541",
   "metadata": {},
   "outputs": [],
   "source": [
    "def decisiontree_classifier(X_train, y_train, X_test, y_test):\n",
    "    # 2. Decision Tree Classifier\n",
    "    decisiontree_algorithm = DecisionTreeClassifier()\n",
    "    decisiontree_algorithm.fit(X_train, y_train)\n",
    "\n",
    "    y_predict_dt = decisiontree_algorithm.predict(X_test)\n",
    "    y_predict_probab_dt = decisiontree_algorithm.predict_proba(X_test)\n",
    "    dt_accuracy = accuracy_score(y_test, y_predict_dt)\n",
    "    pre_dt = precision_score(y_test,y_predict_dt)\n",
    "    recall_dt = recall_score(y_test,y_predict_dt)\n",
    "    f1_dt = f1_score(y_test,y_predict_dt)\n",
    "    \n",
    "    return decisiontree_algorithm, y_predict_dt, y_predict_probab_dt, dt_accuracy, pre_dt, recall_dt, f1_dt"
   ]
  },
  {
   "cell_type": "code",
   "execution_count": null,
   "id": "1ae002ac",
   "metadata": {},
   "outputs": [],
   "source": [
    "decisiontree_algorithm, y_predict_dt, y_predict_probab_dt, dt_accuracy, pre_dt, recall_dt, f1_dt = decisiontree_classifier(X_train, y_train, X_test, y_test)\n",
    "print(\"Accuracy score for KNN=\",dt_accuracy*100)\n",
    "print(\"Precision score for KNN=\",pre_dt*100)\n",
    "print(\"Recall score for KNN=\",recall_dt*100)\n",
    "print(\"F1 score for KNN=\",f1_dt*100)"
   ]
  },
  {
   "cell_type": "code",
   "execution_count": null,
   "id": "d355231c",
   "metadata": {},
   "outputs": [],
   "source": [
    "decisiontree_algorithm_NM, y_predict_dt_NM, y_predict_probab_dt_NM, dt_accuracy_NM, pre_dt_NM, recall_dt_NM, f1_dt_NM = decisiontree_classifier(X_train_nm, y_train_nm, X_test_nm, y_test_nm)\n",
    "print(\"Accuracy score for KNN=\",dt_accuracy_NM*100)\n",
    "print(\"Precision score for KNN=\",pre_dt_NM*100)\n",
    "print(\"Recall score for KNN=\",recall_dt_NM*100)\n",
    "print(\"F1 score for KNN=\",f1_dt_NM*100)"
   ]
  },
  {
   "cell_type": "markdown",
   "id": "7c359f30",
   "metadata": {},
   "source": [
    "### Random Forest"
   ]
  },
  {
   "cell_type": "code",
   "execution_count": null,
   "id": "6000a272",
   "metadata": {},
   "outputs": [],
   "source": [
    "def randomForestClassifier(X_train, y_train, X_test, y_test):\n",
    "    # 3. Random Forest Classifier\n",
    "    # Here we will use the random state that's already used while splitting the dataset\n",
    "    randomForest_algorithm = RandomForestClassifier(n_estimators=19, bootstrap = True, random_state=42)\n",
    "    randomForest_algorithm.fit(X_train, y_train)\n",
    "    \n",
    "    y_predict_rf = randomForest_algorithm.predict(X_test)\n",
    "    y_predict_probab_rf = randomForest_algorithm.predict_proba(X_test)\n",
    "    rf_accuracy = accuracy_score(y_test,y_predict_rf)\n",
    "    pre_rf = precision_score(y_test,y_predict_rf)\n",
    "    recall_rf = recall_score(y_test,y_predict_rf)\n",
    "    f1_rf = f1_score(y_test,y_predict_rf)\n",
    "    \n",
    "    return randomForest_algorithm, y_predict_rf, y_predict_probab_rf, rf_accuracy, pre_rf, recall_rf, f1_rf"
   ]
  },
  {
   "cell_type": "code",
   "execution_count": null,
   "id": "38182907",
   "metadata": {},
   "outputs": [],
   "source": [
    "randomForest_algorithm, y_predict_rf, y_predict_probab_rf, rf_accuracy, pre_rf, recall_rf, f1_rf = randomForestClassifier(X_train, y_train, X_test, y_test)\n",
    "print(\"Accuracy score for Random Forest Classifier=\",rf_accuracy*100)\n",
    "print(\"Precision score for Random Forest=\",pre_rf*100)\n",
    "print(\"Recall score for Random Forest=\",recall_rf*100)\n",
    "print(\"F1 score for Random Forest=\",f1_rf*100)"
   ]
  },
  {
   "cell_type": "code",
   "execution_count": null,
   "id": "7545ff8f",
   "metadata": {},
   "outputs": [],
   "source": [
    "randomForest_algorithm_NM, y_predict_rf_NM, y_predict_probab_rf_NM, rf_accuracy_NM, pre_rf_NM, recall_rf_NM, f1_rf_NM = randomForestClassifier(X_train_nm, y_train_nm, X_test_nm, y_test_nm)\n",
    "print(\"Accuracy score for Random Forest Classifier=\",rf_accuracy_NM*100)\n",
    "print(\"Precision score for Random Forest=\",pre_rf_NM*100)\n",
    "print(\"Recall score for Random Forest=\",recall_rf_NM*100)\n",
    "print(\"F1 score for Random Forest=\",f1_rf_NM*100)"
   ]
  },
  {
   "cell_type": "markdown",
   "id": "cd23e734",
   "metadata": {},
   "source": [
    " ### Logistic Regression"
   ]
  },
  {
   "cell_type": "code",
   "execution_count": null,
   "id": "b94cd708",
   "metadata": {},
   "outputs": [],
   "source": [
    "def  logisticRegressionClassifier(X_train, y_train, X_test, y_test):\n",
    "    # 4. Logistic Regression\n",
    "    logreg_algorithm = LogisticRegression(solver='liblinear')\n",
    "    logreg_algorithm.fit(X_train, y_train)\n",
    "    \n",
    "    y_predict_lr = logreg_algorithm.predict(X_test)\n",
    "    y_predict_probab_lr = logreg_algorithm.predict_proba(X_test)\n",
    "    lr_accuracy = accuracy_score(y_test, y_predict_lr)\n",
    "    pre_lr = precision_score(y_test,y_predict_lr)\n",
    "    recall_lr = recall_score(y_test,y_predict_lr)\n",
    "    f1_lr = f1_score(y_test,y_predict_lr)\n",
    "    return logreg_algorithm, y_predict_lr, y_predict_probab_lr, lr_accuracy, pre_lr, recall_lr, f1_lr"
   ]
  },
  {
   "cell_type": "code",
   "execution_count": null,
   "id": "30aab65a",
   "metadata": {},
   "outputs": [],
   "source": [
    "logreg_algorithm, y_predict_lr, y_predict_probab_lr, lr_accuracy, pre_lr, recall_lr, f1_lr = logisticRegressionClassifier(X_train, y_train, X_test, y_test)\n",
    "print(\"Accuracy score for Logistic Regression=\",lr_accuracy*100)\n",
    "print(\"Precision score for Logistic Regression=\",pre_lr*100)\n",
    "print(\"Recall score for Logistic Regression=\",recall_lr*100)\n",
    "print(\"F1 score for Logistic Regression =\",f1_lr*100)"
   ]
  },
  {
   "cell_type": "code",
   "execution_count": null,
   "id": "3a38c5c2",
   "metadata": {},
   "outputs": [],
   "source": [
    "logreg_algorithm_NM, y_predict_lr_NM, y_predict_probab_lr_NM, lr_accuracy_NM, pre_lr_NM, recall_lr_NM, f1_lr_NM = logisticRegressionClassifier(X_train_nm, y_train_nm, X_test_nm, y_test_nm)\n",
    "print(\"Accuracy score for Logistic Regression=\",lr_accuracy_NM*100)\n",
    "print(\"Precision score for Logistic Regression=\",pre_lr_NM*100)\n",
    "print(\"Recall score for Logistic Regression=\",recall_lr_NM*100)\n",
    "print(\"F1 score for Logistic Regression =\",f1_lr_NM*100)"
   ]
  },
  {
   "cell_type": "markdown",
   "id": "b7afb14c",
   "metadata": {},
   "source": [
    "### Artificial Neural Network"
   ]
  },
  {
   "cell_type": "code",
   "execution_count": null,
   "id": "831b3541",
   "metadata": {},
   "outputs": [],
   "source": [
    "def ANN_Classifier(X_train, y_train, X_test, y_test):\n",
    "    # 5. Artificial Neural Network\n",
    "    # 1 Hidden Layer with 200 neurons:\n",
    "    ANN_Algorithm = MLPClassifier(hidden_layer_sizes=(200), activation= 'logistic', \n",
    "                           solver='sgd', alpha=1e-5, random_state=1, \n",
    "                           learning_rate_init = 0.1, max_iter=10000, verbose=True, tol=0.0001)\n",
    "    ANN_Algorithm.fit(X_train, y_train)\n",
    "    # Weights:\n",
    "    print(ANN_Algorithm.coefs_)\n",
    "    # The ith element in the list represents the weight matrix corresponding to layer i.\n",
    "    print('\\n')\n",
    "    # Bias weights:\n",
    "    print(ANN_Algorithm.intercepts_)\n",
    "    # The ith element in the list represents the bias vector corresponding to layer i + 1.\n",
    "    # Testing on the testing set:\n",
    "    y_predict_ann = ANN_Algorithm.predict(X_test)\n",
    "    y_predict_probab_ann = ANN_Algorithm.predict_proba(X_test)\n",
    "    print(y_predict_ann)\n",
    "    ann_accuracy = accuracy_score(y_test, y_predict_ann)\n",
    "    pre_ann = precision_score(y_test,y_predict_ann)\n",
    "    recall_ann = recall_score(y_test,y_predict_ann)\n",
    "    f1_ann = f1_score(y_test,y_predict_ann)\n",
    "    \n",
    "    return ANN_Algorithm, y_predict_ann, y_predict_probab_ann, ann_accuracy, pre_ann, recall_ann, f1_ann"
   ]
  },
  {
   "cell_type": "code",
   "execution_count": null,
   "id": "8164e598",
   "metadata": {},
   "outputs": [],
   "source": [
    "ANN_Algorithm, y_predict_ann, y_predict_probab_ann, ann_accuracy, pre_ann, recall_ann, f1_ann = ANN_Classifier(X_train, y_train, X_test, y_test)\n",
    "print(\"Accuracy score for Artificial Neural Network=\",ann_accuracy*100)\n",
    "print(\"Precision score for Artificial Neural Network=\",pre_ann*100)\n",
    "print(\"Recall score for Artificial Neural Network=\",recall_ann*100)\n",
    "print(\"F1 score for Artificial Neural Network=\",f1_ann*100)"
   ]
  },
  {
   "cell_type": "code",
   "execution_count": null,
   "id": "2dc4df11",
   "metadata": {},
   "outputs": [],
   "source": [
    "ANN_Algorithm_NM, y_predict_ann_NM, y_predict_probab_ann_NM, ann_accuracy_NM, pre_ann_NM, recall_ann_NM, f1_ann_NM = ANN_Classifier(X_train_nm, y_train_nm, X_test_nm, y_test_nm)\n",
    "print(\"Accuracy score for Artificial Neural Network=\",ann_accuracy_NM*100)\n",
    "print(\"Precision score for Artificial Neural Network=\",pre_ann_NM*100)\n",
    "print(\"Recall score for Artificial Neural Network=\",recall_ann_NM*100)\n",
    "print(\"F1 score for Artificial Neural Network=\",f1_ann_NM*100)"
   ]
  },
  {
   "cell_type": "markdown",
   "id": "3ae6d552",
   "metadata": {},
   "source": [
    "### Naive Bayes"
   ]
  },
  {
   "cell_type": "code",
   "execution_count": null,
   "id": "b4b9fa1f",
   "metadata": {},
   "outputs": [],
   "source": [
    "def naiveBayesClassifier(X_train, y_train, X_test, y_test):\n",
    "    # 6. Naive Bayes\n",
    "    naiveBayes_algorithm = GaussianNB()\n",
    "    naiveBayes_algorithm.fit(X_train, y_train)\n",
    "    \n",
    "    y_predict_naiveBayes  =  naiveBayes_algorithm.predict(X_test)\n",
    "    y_predict_probab_naiveBayes = naiveBayes_algorithm.predict_proba(X_test)\n",
    "    naiveBayes_accuracy = accuracy_score(y_test, y_predict_naiveBayes)\n",
    "    pre_nb = precision_score(y_test,y_predict_naiveBayes)\n",
    "    recall_nb = recall_score(y_test,y_predict_naiveBayes)\n",
    "    f1_nb = f1_score(y_test,y_predict_naiveBayes)\n",
    "    \n",
    "    return naiveBayes_algorithm, y_predict_naiveBayes, y_predict_probab_naiveBayes, naiveBayes_accuracy, pre_nb, recall_nb, f1_nb"
   ]
  },
  {
   "cell_type": "code",
   "execution_count": null,
   "id": "bc51488b",
   "metadata": {},
   "outputs": [],
   "source": [
    "naiveBayes_algorithm, y_predict_naiveBayes, y_predict_probab_naiveBayes, naiveBayes_accuracy, pre_nb, recall_nb, f1_nb = naiveBayesClassifier(X_train, y_train, X_test, y_test)\n",
    "print(\"Accuracy score for Naive Bayes model = \", naiveBayes_accuracy*100)\n",
    "print(\"Precision score for Naive Bayes=\",pre_nb*100)\n",
    "print(\"Recall score for Naive Bayes=\",pre_nb*100)\n",
    "print(\"F1 score for Naive Bayes=\",f1_nb*100)"
   ]
  },
  {
   "cell_type": "code",
   "execution_count": null,
   "id": "5da8e030",
   "metadata": {},
   "outputs": [],
   "source": [
    "naiveBayes_algorithm_NM, y_predict_naiveBayes_NM, y_predict_probab_naiveBayes_NM, naiveBayes_accuracy_NM, pre_nb_NM, recall_nb_NM, f1_nb_NM = naiveBayesClassifier(X_train_nm, y_train_nm, X_test_nm, y_test_nm)\n",
    "print(\"Accuracy score for Naive Bayes model = \", naiveBayes_accuracy_NM*100)\n",
    "print(\"Precision score for Naive Bayes=\",pre_nb_NM*100)\n",
    "print(\"Recall score for Naive Bayes=\",pre_nb_NM*100)\n",
    "print(\"F1 score for Naive Bayes=\",f1_nb_NM*100)"
   ]
  },
  {
   "cell_type": "markdown",
   "id": "9b45771b",
   "metadata": {},
   "source": [
    "### Support Vector Machine"
   ]
  },
  {
   "cell_type": "code",
   "execution_count": null,
   "id": "17633843",
   "metadata": {},
   "outputs": [],
   "source": [
    "def svmClassifier(X_train, y_train, X_test, y_test):\n",
    "    #7. Support Vector Machine Classifier\n",
    "    svm_algorithm = SVC(kernel='rbf', probability=True, random_state = 1)\n",
    "    svm_algorithm.fit(X_train, y_train)\n",
    "    y_predict_svm = svm_algorithm.predict(X_test)\n",
    "    y_predict_probab_svm = svm_algorithm.predict_proba(X_test)\n",
    "    svm_accuracy = accuracy_score(y_test, y_predict_svm)\n",
    "    pre_svm = precision_score(y_test,y_predict_svm)\n",
    "    recall_svm = recall_score(y_test,y_predict_svm)\n",
    "    f1_svm = f1_score(y_test,y_predict_svm)\n",
    "    return svm_algorithm, y_predict_svm, y_predict_probab_svm, svm_accuracy, pre_svm, recall_svm, f1_svm"
   ]
  },
  {
   "cell_type": "code",
   "execution_count": null,
   "id": "f96d4a67",
   "metadata": {},
   "outputs": [],
   "source": [
    "svm_algorithm, y_predict_svm, y_predict_probab_svm, svm_accuracy, pre_svm, recall_svm, f1_svm = svmClassifier(X_train, y_train, X_test, y_test)\n",
    "print(\"Accuracy score for Support Vector Machine = \", svm_accuracy*100)\n",
    "print(\"Precision score for Support Vector Machine=\",pre_svm*100)\n",
    "print(\"Recall score for Support Vector Machine=\",recall_svm*100)\n",
    "print(\"F1 score for Support Vector Machine=\",f1_svm*100)"
   ]
  },
  {
   "cell_type": "code",
   "execution_count": null,
   "id": "3ec4ea6d",
   "metadata": {},
   "outputs": [],
   "source": [
    "svm_algorithm_NM, y_predict_svm_NM, y_predict_probab_svm_NM, svm_accuracy_NM, pre_svm_NM, recall_svm_NM, f1_svm_NM = svmClassifier(X_train_nm, y_train_nm, X_test_nm, y_test_nm)\n",
    "print(\"Accuracy score for Support Vector Machine = \", svm_accuracy_NM*100)\n",
    "print(\"Precision score for Support Vector Machine=\",pre_svm_NM*100)\n",
    "print(\"Recall score for Support Vector Machine=\",recall_svm_NM*100)\n",
    "print(\"F1 score for Support Vector Machine=\",f1_svm_NM*100)"
   ]
  },
  {
   "cell_type": "markdown",
   "id": "dc5b8e3c",
   "metadata": {},
   "source": [
    "# Plot ROC Curve with AUC"
   ]
  },
  {
   "cell_type": "code",
   "execution_count": null,
   "id": "ccb582b7",
   "metadata": {},
   "outputs": [],
   "source": [
    "### ROC Zoomed Plot ###"
   ]
  },
  {
   "cell_type": "code",
   "execution_count": null,
   "id": "159e5f26",
   "metadata": {},
   "outputs": [],
   "source": [
    "def ROC_AUC(filetitle, isZoom, y_test, y_predict_probab_knn, y_predict_probab_dt, y_predict_probab_rf, y_predict_probab_lr, y_predict_probab_ann, y_predict_probab_naiveBayes, y_predict_probab_svm):\n",
    "    # ROC Curve for all 7 - models\n",
    "    # For KNN\n",
    "    fpr1, tpr1, thresh1 = roc_curve(y_test, y_predict_probab_knn[:,1], pos_label=1)\n",
    "    # For Decision Tree\n",
    "    fpr2, tpr2, thresh2 = roc_curve(y_test, y_predict_probab_dt[:,1], pos_label=1)\n",
    "    # For Random Forest\n",
    "    fpr3, tpr3, thresh3 = roc_curve(y_test, y_predict_probab_rf[:,1], pos_label=1)\n",
    "    # For Logistic Regression\n",
    "    fpr4, tpr4, thresh4 = roc_curve(y_test, y_predict_probab_lr[:,1], pos_label=1)\n",
    "    # For Artificial Neural Network\n",
    "    fpr5, tpr5, thresh5 = roc_curve(y_test, y_predict_probab_ann[:,1], pos_label=1)\n",
    "    # For Naive Bayes\n",
    "    fpr6, tpr6, thresh6 = roc_curve(y_test, y_predict_probab_naiveBayes[:,1], pos_label=1)\n",
    "    # For Support Vector Machine\n",
    "    fpr7, tpr7, thresh7 = roc_curve(y_test, y_predict_probab_svm[:,1], pos_label=1)\n",
    "\n",
    "    # AUC for all 7 - models\n",
    "\n",
    "    # For KNN\n",
    "    AUC_KNN = metrics.auc(fpr1, tpr1)\n",
    "    # For Decision Tree\n",
    "    AUC_dt = metrics.auc(fpr2, tpr2)\n",
    "    # For Random Forest\n",
    "    AUC_rf = metrics.auc(fpr3, tpr3)\n",
    "    # For Logistic Regression\n",
    "    AUC_lr = metrics.auc(fpr4, tpr4)\n",
    "    # For Artificial Neural Network\n",
    "    AUC_ann = metrics.auc(fpr5, tpr5)\n",
    "    # For Naive Bayes\n",
    "    AUC_nb = metrics.auc(fpr6, tpr6)\n",
    "    # For Support Vector Machine\n",
    "    AUC_svm = metrics.auc(fpr7, tpr7)\n",
    "\n",
    "    print(\"AUC KNN: \" + str(AUC_KNN))\n",
    "    print(\"AUC Decision Tree: \" + str(AUC_dt))\n",
    "    print(\"AUC Random Forest: \" + str(AUC_rf))\n",
    "    print(\"AUC Logistic Regression: \" + str(AUC_lr))\n",
    "    print(\"AUC Artificial Neural Network: \" + str(AUC_ann))\n",
    "    print(\"AUC Naive Bayes: \" + str(AUC_nb))\n",
    "    print(\"AUC Support Vector Machine: \" + str(AUC_svm))\n",
    "\n",
    "    %matplotlib inline\n",
    "    plt.style.use('seaborn')\n",
    "    plt.figure()\n",
    "    # Curve for KNN\n",
    "    plt.plot(fpr1, tpr1, color='red', lw=1, linestyle=':', label='ROC KNN (AUC = %0.3f)' % AUC_KNN)\n",
    "    # Curve for Decision Tree\n",
    "    plt.plot(fpr2, tpr2, color='green', lw=1, linestyle='--', label='ROC Decision Tree (AUC = %0.3f)' % AUC_dt)\n",
    "    # Curve for Random Forest\n",
    "    plt.plot(fpr3, tpr3, color='blue', lw=1, linestyle='--', label='ROC Random Forest (AUC = %0.3f)' % AUC_rf)\n",
    "    # Curve for Logistic Regression\n",
    "    plt.plot(fpr4, tpr4, color='darkorange', lw=2, label='ROC Logistic Regression (AUC = %0.3f)' % AUC_lr)\n",
    "    # Curve for Artificial Neural Network\n",
    "    plt.plot(fpr5, tpr5, color='aqua', lw=2, label='ROC Artificial Neural Network (AUC = %0.3f)' % AUC_ann)\n",
    "    # Curve for Naive Bayes\n",
    "    plt.plot(fpr6, tpr6, color='cornflowerblue', lw=2, label='ROC Naive Bayes (AUC = %0.3f)' % AUC_nb)\n",
    "    # Curve for Support Vector Machine\n",
    "    plt.plot(fpr7, tpr7, color='deeppink', lw=1, linestyle=':',  label='ROC Support Vector Machine (AUC = %0.3f)' % AUC_svm)\n",
    "\n",
    "    # Random Guess line:\n",
    "    plt.plot([0, 1], [0, 1], color='black', lw=2, linestyle='--')\n",
    "    \n",
    "    type_ = ''\n",
    "    if isZoom == True:\n",
    "        # Defining The Range of X-Axis and Y-Axis:\n",
    "        plt.xlim([-0.04, 0.4])\n",
    "        plt.ylim([0.5, 1])\n",
    "        type_ = 'zoomed'\n",
    "    else:\n",
    "        plt.xlim([-0.04, 1.009])\n",
    "        plt.ylim([0.0, 1.03])\n",
    "\n",
    "    # Labels, Title, Legend:\n",
    "    plt.xlabel('False Positive Rate')\n",
    "    plt.ylabel('True Positive Rate')\n",
    "    plt.title('Receiver operating characteristic')\n",
    "    plt.legend(loc=\"lower right\")\n",
    "    plt.savefig(('ROC'+filetitle+type_),dpi=100)\n",
    "    plt.show()"
   ]
  },
  {
   "cell_type": "code",
   "execution_count": null,
   "id": "7b2fdd9b",
   "metadata": {},
   "outputs": [],
   "source": [
    "ROC_AUC('random', False, y_test, y_predict_probab_knn, y_predict_probab_dt, y_predict_probab_rf, y_predict_probab_lr, y_predict_probab_ann, y_predict_probab_naiveBayes, y_predict_probab_svm)"
   ]
  },
  {
   "cell_type": "code",
   "execution_count": null,
   "id": "0e72a364",
   "metadata": {},
   "outputs": [],
   "source": [
    "ROC_AUC('random', True,y_test, y_predict_probab_knn, y_predict_probab_dt, y_predict_probab_rf, y_predict_probab_lr, y_predict_probab_ann, y_predict_probab_naiveBayes, y_predict_probab_svm)"
   ]
  },
  {
   "cell_type": "code",
   "execution_count": null,
   "id": "8cde4e43",
   "metadata": {},
   "outputs": [],
   "source": [
    "ROC_AUC('nearmiss', True,y_test_nm, y_predict_probab_knn_NM, y_predict_probab_dt_NM, y_predict_probab_rf_NM, y_predict_probab_lr_NM, y_predict_probab_ann_NM, y_predict_probab_naiveBayes_NM, y_predict_probab_svm_NM)"
   ]
  },
  {
   "cell_type": "code",
   "execution_count": null,
   "id": "8634fc9a",
   "metadata": {},
   "outputs": [],
   "source": [
    "ROC_AUC('nearmiss', False, y_test_nm, y_predict_probab_knn_NM, y_predict_probab_dt_NM, y_predict_probab_rf_NM, y_predict_probab_lr_NM, y_predict_probab_ann_NM, y_predict_probab_naiveBayes_NM, y_predict_probab_svm_NM)"
   ]
  },
  {
   "cell_type": "markdown",
   "id": "c4e6aa53",
   "metadata": {},
   "source": [
    "# Finding confusion matrix and plotting for all 7-algorithms in 2-subplots"
   ]
  },
  {
   "cell_type": "code",
   "execution_count": null,
   "id": "491aa621",
   "metadata": {},
   "outputs": [],
   "source": [
    "# 1st subplot containing KNN, DecisionTree, RandomForest, LogisticRegression #"
   ]
  },
  {
   "cell_type": "code",
   "execution_count": null,
   "id": "ce65d3ab",
   "metadata": {},
   "outputs": [],
   "source": [
    "fig, axes = plt.subplots(nrows=2, ncols=2, figsize=(15,10))\n",
    "classifiers = [knn_algorithm, decisiontree_algorithm,randomForest_algorithm,logreg_algorithm]\n",
    "for cls, ax in zip(classifiers, axes.flatten()):\n",
    "    plot_confusion_matrix(cls, X_test, y_test, ax=ax, cmap='Blues')\n",
    "    ax.title.set_text(type(cls).__name__)\n",
    "\n",
    "plt.savefig('Confusion Matrix for first 4-algorithms',dpi=100)\n",
    "plt.tight_layout()  \n",
    "plt.show()"
   ]
  },
  {
   "cell_type": "code",
   "execution_count": null,
   "id": "f9cb2c4a",
   "metadata": {},
   "outputs": [],
   "source": [
    "fig, axes = plt.subplots(nrows=2, ncols=2, figsize=(15,10))\n",
    "classifiers = [knn_algorithm_NM, decisiontree_algorithm_NM, randomForest_algorithm_NM, logreg_algorithm_NM]\n",
    "for cls, ax in zip(classifiers, axes.flatten()):\n",
    "    plot_confusion_matrix(cls, X_test_nm, y_test_nm, ax=ax, cmap='Blues')\n",
    "    ax.title.set_text(type(cls).__name__)\n",
    "\n",
    "plt.savefig('Confusion Matrix for first 4-algorithms (NearMiss)',dpi=100)\n",
    "plt.tight_layout()  \n",
    "plt.show()"
   ]
  },
  {
   "cell_type": "code",
   "execution_count": null,
   "id": "0dc19cb0",
   "metadata": {},
   "outputs": [],
   "source": [
    "# 2nd subplot containing ANN_Algorithm, naiveBayes_algorithm, svm_algorithm #"
   ]
  },
  {
   "cell_type": "code",
   "execution_count": null,
   "id": "b7bfb74c",
   "metadata": {},
   "outputs": [],
   "source": [
    "fig, axes = plt.subplots(nrows=1, ncols=3, figsize=(20,5))\n",
    "classifiers = [ANN_Algorithm, naiveBayes_algorithm, svm_algorithm]\n",
    "for cls, ax in zip(classifiers, axes.flatten()):\n",
    "    plot_confusion_matrix(cls, X_test, y_test, ax=ax, cmap='Blues')\n",
    "    ax.title.set_text(type(cls).__name__)\n",
    "\n",
    "plt.savefig('Confusion Matrix for last 3-algorithms',dpi=100)\n",
    "plt.tight_layout()  \n",
    "plt.show()"
   ]
  },
  {
   "cell_type": "code",
   "execution_count": null,
   "id": "7de37cd5",
   "metadata": {},
   "outputs": [],
   "source": [
    "fig, axes = plt.subplots(nrows=1, ncols=3, figsize=(20,5))\n",
    "classifiers = [ANN_Algorithm_NM, naiveBayes_algorithm_NM, svm_algorithm_NM]\n",
    "for cls, ax in zip(classifiers, axes.flatten()):\n",
    "    plot_confusion_matrix(cls, X_test_nm, y_test_nm, ax=ax, cmap='Blues')\n",
    "    ax.title.set_text(type(cls).__name__)\n",
    "\n",
    "plt.savefig('Confusion Matrix for last 3-algorithms (NearMiss)',dpi=100)\n",
    "plt.tight_layout()  \n",
    "plt.show()"
   ]
  },
  {
   "cell_type": "code",
   "execution_count": null,
   "id": "4a432b8b",
   "metadata": {},
   "outputs": [],
   "source": []
  },
  {
   "cell_type": "markdown",
   "id": "b7c1746f",
   "metadata": {},
   "source": [
    "# Summary: Scores"
   ]
  },
  {
   "cell_type": "code",
   "execution_count": null,
   "id": "72a01e57",
   "metadata": {
    "scrolled": true
   },
   "outputs": [],
   "source": [
    "print(\"Accuracy score for KNN=\",knn_accuracy*100)\n",
    "print(\"Accuracy score for Decision Tree=\",dt_accuracy*100)\n",
    "print(\"Accuracy score for Random Forest Classifier=\",rf_accuracy*100)\n",
    "print(\"Accuracy score for Logistic Regression=\",lr_accuracy*100)\n",
    "print(\"Accuracy score for Artificial Neural Network=\",ann_accuracy*100)\n",
    "print(\"Accuracy score for Naive Bayes model = \", naiveBayes_accuracy*100)\n",
    "print(\"Accuracy score for Support Vector Machine = \", svm_accuracy*100)"
   ]
  },
  {
   "cell_type": "code",
   "execution_count": null,
   "id": "9bf6cdee",
   "metadata": {},
   "outputs": [],
   "source": [
    "table_AccuracyScore = [\n",
    "    ['dataset used', 'KNN', 'Decision Tree', 'Random Forest', 'Logistic Regression', 'Artificial Neural Network', 'Naive Bayes', 'SVM'], \n",
    "    ['random undersampling', str(knn_accuracy*100), str(dt_accuracy*100), str(rf_accuracy*100), str(lr_accuracy*100), str(ann_accuracy*100), str(naiveBayes_accuracy*100), str(svm_accuracy*100)],\n",
    "    ['NearMiss undersampling', str(knn_accuracy_NM*100), str(dt_accuracy_NM*100), str(rf_accuracy_NM*100), str(lr_accuracy_NM*100), str(ann_accuracy_NM*100), str(naiveBayes_accuracy_NM*100), str(svm_accuracy_NM*100)]\n",
    "]\n",
    "print('Accuracy Score')\n",
    "print(tabulate(table_AccuracyScore, headers='firstrow', tablefmt='fancy_grid'))"
   ]
  },
  {
   "cell_type": "code",
   "execution_count": null,
   "id": "823049b8",
   "metadata": {},
   "outputs": [],
   "source": [
    "print(\"Precision score for KNN=\",pre_knn*100)\n",
    "print(\"Precision score for Decision Tree =\",pre_dt*100)\n",
    "print(\"Precision score for Random Forest=\",pre_rf*100)\n",
    "print(\"Precision score for Logistic Regression=\",pre_lr*100)\n",
    "print(\"Precision score for Artificial Neural Network=\",pre_ann*100)\n",
    "print(\"Precision score for Naive Bayes=\",pre_nb*100)\n",
    "print(\"Precision score for Support Vector Machine=\",pre_svm*100)"
   ]
  },
  {
   "cell_type": "code",
   "execution_count": null,
   "id": "e82e7a8c",
   "metadata": {},
   "outputs": [],
   "source": [
    "table_PrecisionScore = [\n",
    "    ['dataset used', 'KNN', 'Decision Tree', 'Random Forest', 'Logistic Regression', 'Artificial Neural Network', 'Naive Bayes', 'SVM'], \n",
    "    ['random undersampling', str(pre_knn*100), str(pre_dt*100), str(pre_rf*100), str(pre_lr*100), str(pre_ann*100), str(pre_nb*100), str(pre_svm*100)],\n",
    "    ['NearMiss undersampling', str(pre_knn_NM*100), str(pre_dt_NM*100), str(pre_rf_NM*100), str(pre_lr_NM*100), str(pre_ann_NM*100), str(pre_nb_NM*100), str(pre_svm_NM*100)]\n",
    "]\n",
    "print('Precision Score')\n",
    "print(tabulate(table_PrecisionScore, headers='firstrow', tablefmt='fancy_grid'))"
   ]
  },
  {
   "cell_type": "code",
   "execution_count": null,
   "id": "9fca73c0",
   "metadata": {},
   "outputs": [],
   "source": [
    "print(\"Recall score for KNN=\",recall_knn*100)\n",
    "print(\"Recall score for Decision Tree =\",recall_dt*100)\n",
    "print(\"Recall score for Random Forest=\",recall_rf*100)\n",
    "print(\"Recall score for Logistic Regression=\",recall_lr*100)\n",
    "print(\"Recall score for Artificial Neural Network=\",recall_ann*100)\n",
    "print(\"Recall score for Naive Bayes=\",recall_nb*100)\n",
    "print(\"Recall score for Support Vector Machine=\",recall_svm*100)"
   ]
  },
  {
   "cell_type": "code",
   "execution_count": null,
   "id": "5550328c",
   "metadata": {},
   "outputs": [],
   "source": [
    "table_RecallScore = [\n",
    "    ['dataset used', 'KNN', 'Decision Tree', 'Random Forest', 'Logistic Regression', 'Artificial Neural Network', 'Naive Bayes', 'SVM'], \n",
    "    ['random undersampling', str(recall_knn*100), str(recall_dt*100), str(recall_rf*100), str(recall_lr*100), str(recall_ann*100), str(recall_nb*100), str(recall_svm*100)],\n",
    "    ['NearMiss undersampling', str(recall_knn_NM*100), str(recall_dt_NM*100), str(recall_rf_NM*100), str(recall_lr_NM*100), str(recall_ann_NM*100), str(recall_nb_NM*100), str(recall_svm_NM*100)]\n",
    "]\n",
    "print('Recall Score')\n",
    "print(tabulate(table_RecallScore, headers='firstrow', tablefmt='fancy_grid'))"
   ]
  },
  {
   "cell_type": "code",
   "execution_count": null,
   "id": "dd06374b",
   "metadata": {},
   "outputs": [],
   "source": [
    "print(\"F1 score for KNN=\",f1_knn*100)\n",
    "print(\"F1 score for Decision Tree =\",f1_dt*100)\n",
    "print(\"F1 score for Random Forest=\",f1_rf*100)\n",
    "print(\"F1 score for Logistic Regression=\",f1_lr*100)\n",
    "print(\"F1 score for Artificial Neural Network=\",f1_ann*100)\n",
    "print(\"F1 score for Naive Bayes=\",f1_nb*100)\n",
    "print(\"F1 score for Support Vector Machine=\",f1_svm*100)"
   ]
  },
  {
   "cell_type": "code",
   "execution_count": null,
   "id": "91fd72e1",
   "metadata": {},
   "outputs": [],
   "source": [
    "table_F1Score = [\n",
    "    ['dataset used', 'KNN', 'Decision Tree', 'Random Forest', 'Logistic Regression', 'Artificial Neural Network', 'Naive Bayes', 'SVM'], \n",
    "    ['random undersampling', str(f1_knn*100), str(f1_dt*100), str(f1_rf*100), str(f1_lr*100), str(f1_ann*100), str(f1_nb*100), str(f1_svm*100)],\n",
    "    ['NearMiss undersampling', str(f1_knn_NM*100), str(f1_dt_NM*100), str(f1_rf_NM*100), str(f1_lr_NM*100), str(f1_ann_NM*100), str(f1_nb_NM*100), str(f1_svm_NM*100)]\n",
    "]\n",
    "print('F1-Score')\n",
    "print(tabulate(table_F1Score, headers='firstrow', tablefmt='fancy_grid'))"
   ]
  },
  {
   "cell_type": "code",
   "execution_count": null,
   "id": "72a88865",
   "metadata": {},
   "outputs": [],
   "source": [
    "Image(url=\"randomundersampling.png\", width=800, height=1000)"
   ]
  },
  {
   "cell_type": "code",
   "execution_count": null,
   "id": "66ff6052",
   "metadata": {},
   "outputs": [],
   "source": [
    "Image(url=\"nearmiss.png\", width=800, height=1000)"
   ]
  },
  {
   "cell_type": "code",
   "execution_count": null,
   "id": "97c45abe",
   "metadata": {},
   "outputs": [],
   "source": [
    "# From this project we observed that with 284315 genuine cases, we have 492 fraudulent transactions. So anytime we get a database\n",
    "# we shouldn't solely rely on database being optimized and scaled. This project made us understand the concepts behind handling \n",
    "# the database that involves normalizing, scaling the features amount and time with respect to class column and lastly under - \n",
    "# sampling the database by randomly choosing 492 genuine transactions among 284315 genuine ones, to pair up with fraud numbers.\n",
    "\n",
    "# We have also used near miss undersampling for better accuracy.\n",
    "\n",
    "# From CS-4661. we had learnt how to split the dataset based on target and features using random state and test-size.\n",
    "\n",
    "# Then we started applying the algorithms in-order to find the accuracy levels.\n",
    "# We have applied 7-algorithms, but in terms of accuracy we think the best was achieved via Artificial Neural Network as 95.27%\n",
    "\n",
    "# In terms of ROC-AUC, we achieved the best in Random Forest as 98% as shown in diagram for Random undersampling approach. \n",
    "# For the NearMiss data balancing approach, we achieved the best in using both Random Forest and ANN with 99.9%, they came\n",
    "# in a tie.\n",
    "\n",
    "# We have also calculated Precision for both data balancing approaches for all 7-algorithms, the best result was observed in \n",
    "# Support Vector Machine as 97.80% using the random undersampling dataset. Using the NearMiss undersampling dataset, the best is\n",
    "# Random Forest with 99.31%\n",
    "\n",
    "# We have also calculated F1-score and Recall for all 7-algorithms, the best result was observed in Artificial Neural Network\n",
    "# as 95.27% and 94% respectively for data balancing approach 1. For approach 2 the best results was Random Forest with 99.31 for \n",
    "# both recall and f1-score.\n",
    "\n",
    "\n",
    "# We have also tried to visualize the precictive analytics like using the confusion matrix since that gives direct comparisons\n",
    "# about values of True Positives, False Positives, True Negatives and False Negatives and we also did a plot of confusion matrix.\n",
    "\n",
    "# Now we have 7-algorithms, but we need to choose one among the 7 that gives the best accuracy, precision, recall, ROC and F1-score.\n",
    "\n",
    "# From the histogram above we observed that the best result was observed with ANN (Artificial Neural Network), with an accuracy \n",
    "# of 95.27%, precision of 96.57%, recall of 94%, ROC of 97.87% and F1-score of 95.27% using approach 1 (Random undersampling).\n",
    "\n",
    "# If we use approach 2 (NearMiss) to balance our data the best result was observed with Random forest with an accuracy of 99.32%,\n",
    "# precision of 99.31%, recall of 99.31%, ROC-AUC of 99.85, and F1-Score of 99.31.\n",
    "\n",
    "\n",
    "# So, with this we conclude that for credit card fraud detection algorithm, the best suitable algorithm is ANN (Artificial Neural\n",
    "# Network) if we use Random Undersampling to balance our data. If we use NearMiss to balance our data, we can conclude that the \n",
    "# best suitable algorithm is Random Forest.\n"
   ]
  }
 ],
 "metadata": {
  "kernelspec": {
   "display_name": "Python 3",
   "language": "python",
   "name": "python3"
  },
  "language_info": {
   "codemirror_mode": {
    "name": "ipython",
    "version": 3
   },
   "file_extension": ".py",
   "mimetype": "text/x-python",
   "name": "python",
   "nbconvert_exporter": "python",
   "pygments_lexer": "ipython3",
   "version": "3.8.8"
  }
 },
 "nbformat": 4,
 "nbformat_minor": 5
}
